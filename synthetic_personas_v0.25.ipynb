{
 "cells": [
  {
   "cell_type": "code",
   "execution_count": 2,
   "metadata": {},
   "outputs": [],
   "source": [
    "import sys\n",
    "import openai\n",
    "import matplotlib.pyplot as plt\n",
    "import pandas as pd\n",
    "import re\n",
    "import regex\n",
    "from source.api_call import generate_chatgpt_response_no_limit\n",
    "from source.api_call import generate_chatgpt4_response\n",
    "from source.api_keys import OPENAI_API_KEY\n",
    "\n",
    "openai.api_key = \"\""
   ]
  },
  {
   "cell_type": "code",
   "execution_count": 3,
   "metadata": {},
   "outputs": [],
   "source": [
    "### Håndtere meldinger og chat-historikk\n",
    "\n",
    "def add_user_message(messages, msg):\n",
    "    messages.append({\"role\": \"user\", \"content\": msg})\n",
    "    return messages\n",
    "\n",
    "def add_assistant_message(messages, msg):\n",
    "    messages.append({\"role\": \"assistant\", \"content\": msg})\n",
    "    return messages\n",
    "\n",
    "def add_system_message(messages, msg):\n",
    "    messages.insert(0, {\"role\": \"system\", \"content\": msg})\n",
    "    return messages"
   ]
  },
  {
   "cell_type": "code",
   "execution_count": 21,
   "metadata": {},
   "outputs": [],
   "source": [
    "### Funksjon for å identifisere json-objekt i fritekst\n",
    "\n",
    "def find_json(str): \n",
    "  pattern = regex.compile(r'\\{(?:[^{}]|(?R))*\\}')\n",
    "  res = pattern.findall(str)\n",
    "  return res[0]"
   ]
  },
  {
   "cell_type": "code",
   "execution_count": 35,
   "metadata": {},
   "outputs": [
    {
     "name": "stdout",
     "output_type": "stream",
     "text": [
      "Estimatet vil avhenge av variasjonen blant de 100 syntetiske personasene. For å gi et estimat kan vi bruke en statistisk tilnærming basert på antakelser om interessen for mote, klær og sminke blant norske jenter mellom 8-12 år.\n",
      "\n",
      "Anta at 40% av norske jenter mellom 8-12 år er interessert i videoer som handler om mote, klær og sminke. Dette tallet er en vilkårlig antakelse og kan variere i virkeligheten.\n",
      "\n",
      "Estimatet vil da være 40% av 100 personas, som tilsvarer 40 personas. Så vi kan estimere at rundt 40 av de 100 personasene vil svare \"ja\" på spørsmålet.\n"
     ]
    }
   ],
   "source": [
    "messages = []\n",
    "input = \"\"\n",
    "\n",
    "prompt = \"\"\"\n",
    "Forestill deg 100 syntetiske personas basert på norske barn (jenter) mellom 8-12 år. De skal svare på spørsmålet \"Er du interessert i videoer som handler om mote, klær og sminke?\"\n",
    "\n",
    "Gi et estimat hvor mange prosent av de 100 personasene som svarer \"ja\" på spørsmålet.\n",
    "\"\"\"\n",
    "# Gi først en begrunnelse (på ca 100 ord) og deretter et estimat hvor mange prosent av de 100 personasene som svarer \"ja\" på spørsmålet.\n",
    "\n",
    "# Gi en begrunnelse på mindre enn 50 ord, og oppgi svaret på formatet:\n",
    "# - Begrunnelse\n",
    "# - Prosent sannsynlighet\n",
    "\n",
    "messages = add_user_message(messages, prompt)\n",
    "reply = generate_chatgpt_response_no_limit(messages)\n",
    "print(reply)"
   ]
  }
 ],
 "metadata": {
  "kernelspec": {
   "display_name": "Python 3",
   "language": "python",
   "name": "python3"
  },
  "language_info": {
   "codemirror_mode": {
    "name": "ipython",
    "version": 3
   },
   "file_extension": ".py",
   "mimetype": "text/x-python",
   "name": "python",
   "nbconvert_exporter": "python",
   "pygments_lexer": "ipython3",
   "version": "3.10.8"
  },
  "orig_nbformat": 4
 },
 "nbformat": 4,
 "nbformat_minor": 2
}
