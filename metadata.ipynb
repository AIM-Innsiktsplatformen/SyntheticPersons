{
 "cells": [
  {
   "cell_type": "markdown",
   "metadata": {},
   "source": [
    "## Kobler mot OpenAI API for å benytte GPT-modeller\n",
    "###### Har opprettet API Key på nettsidene til OpenAI (egen konto). OBS: GPT-4 koster vesentlig mer enn GPT-3.5 - se docs for billing detaljer"
   ]
  },
  {
   "cell_type": "code",
   "execution_count": 1,
   "metadata": {
    "application/vnd.databricks.v1+cell": {
     "cellMetadata": {
      "byteLimit": 2048000,
      "rowLimit": 10000
     },
     "inputWidgets": {},
     "nuid": "516ca4ac-f538-41de-b362-cbb48b35fe12",
     "showTitle": false,
     "title": ""
    }
   },
   "outputs": [],
   "source": [
    "import openai\n",
    "import os\n",
    "\n",
    "from dotenv import load_dotenv, find_dotenv\n",
    "_ = load_dotenv(find_dotenv())\n",
    "\n",
    "openai.api_key = os.getenv('OPENAI_API_KEY')\n",
    "#print(f\"API Key: {openai.api_key}\")\n"
   ]
  },
  {
   "cell_type": "markdown",
   "metadata": {},
   "source": [
    "## Definer modell"
   ]
  },
  {
   "cell_type": "code",
   "execution_count": 2,
   "metadata": {},
   "outputs": [],
   "source": [
    "def get_completion(prompt, model=\"gpt-3.5-turbo\"): # gpt-3.5-turbo or gpt-4\n",
    "    messages = [{\"role\": \"user\", \"content\": prompt}]\n",
    "    response = openai.ChatCompletion.create(\n",
    "        model=model,\n",
    "        messages=messages,\n",
    "        temperature=0, # this is the degree of randomness of the model's output\n",
    "    )\n",
    "    return response.choices[0].message[\"content\"]\n"
   ]
  },
  {
   "attachments": {},
   "cell_type": "markdown",
   "metadata": {
    "application/vnd.databricks.v1+cell": {
     "cellMetadata": {},
     "inputWidgets": {},
     "nuid": "7bafd348-8bfd-4dc3-b876-f41486df3141",
     "showTitle": false,
     "title": ""
    }
   },
   "source": [
    "## Importer Data fra arbeidsdokumentet"
   ]
  },
  {
   "cell_type": "markdown",
   "metadata": {},
   "source": [
    "#### Metadata"
   ]
  },
  {
   "cell_type": "code",
   "execution_count": 4,
   "metadata": {
    "application/vnd.databricks.v1+cell": {
     "cellMetadata": {
      "byteLimit": 2048000,
      "rowLimit": 10000
     },
     "inputWidgets": {},
     "nuid": "ea3aa484-add0-4a16-9de2-260660bff490",
     "showTitle": false,
     "title": ""
    }
   },
   "outputs": [],
   "source": [
    "import pandas as pd\n",
    "meta = pd.read_excel(\"data/metadata.xlsx\", sheet_name=\"metadata\")\n",
    "#display(meta)\n"
   ]
  },
  {
   "cell_type": "markdown",
   "metadata": {},
   "source": [
    "#### Film, spill tv-serier og youtube-kanaler"
   ]
  },
  {
   "cell_type": "code",
   "execution_count": 5,
   "metadata": {},
   "outputs": [],
   "source": [
    "import pandas as pd\n",
    "xyz = pd.read_excel(\"data/metadata.xlsx\", sheet_name=\"xyz\")\n",
    "#display(xyz)"
   ]
  },
  {
   "cell_type": "code",
   "execution_count": 6,
   "metadata": {},
   "outputs": [
    {
     "name": "stdout",
     "output_type": "stream",
     "text": [
      "['Film' 'Spill' 'TV-Serie' 'Youtube kanal']\n"
     ]
    }
   ],
   "source": [
    "print(xyz['Format'].unique())"
   ]
  },
  {
   "cell_type": "markdown",
   "metadata": {},
   "source": [
    "#### Splitt i kategorier"
   ]
  },
  {
   "cell_type": "code",
   "execution_count": 7,
   "metadata": {},
   "outputs": [],
   "source": [
    "film = xyz[xyz['Format'] == 'Film']\n",
    "spill = xyz[xyz['Format'] == 'Spill']\n",
    "tv_serie = xyz[xyz['Format'] == 'TV-Serie']\n",
    "youtube_kanal = xyz[xyz['Format'] == 'Youtube kanal']\n",
    "#print(youtube_kanal.head(3))\n",
    "#print(tv_serie.head(3))"
   ]
  },
  {
   "cell_type": "markdown",
   "metadata": {},
   "source": [
    "##### Youtubere / Influencere"
   ]
  },
  {
   "cell_type": "code",
   "execution_count": 130,
   "metadata": {},
   "outputs": [
    {
     "name": "stdout",
     "output_type": "stream",
     "text": [
      "['Mr Beast', 'Logan Paul', 'KSI', 'Randulle', 'Flippklipp', 'Kattekryp', 'Ninja', 'Ssundee', 'Lazarbeam', 'Jelly']\n"
     ]
    }
   ],
   "source": [
    "# limiting test data and make the names into list\n",
    "#navn = youtube_kanal['Navn'].head(10)\n",
    "navn = youtube_kanal['Navn'].head(10).tolist()\n",
    "print(navn)"
   ]
  },
  {
   "cell_type": "code",
   "execution_count": 131,
   "metadata": {},
   "outputs": [
    {
     "name": "stdout",
     "output_type": "stream",
     "text": [
      "         Name                          Response\n",
      "0    Mr Beast  Philanthropy, Challenges, Pranks\n",
      "1  Logan Paul          Vlogging, Boxing, Pranks\n",
      "2         KSI            Boxing, Comedy, Gaming\n",
      "3    Randulle      Gaming, Football, Challenges\n",
      "4  Flippklipp         Norwegian, Comedy, Gaming\n",
      "5   Kattekryp     \"Animation, Humor, Norwegian\"\n",
      "6       Ninja       Gaming, Streaming, Fortnite\n",
      "7     Ssundee     Gaming, Minecraft, Challenges\n",
      "8   Lazarbeam        Gaming, Comedy, Commentary\n",
      "9       Jelly  \"Gaming, Challenges, Commentary\"\n"
     ]
    }
   ],
   "source": [
    "# Initialize an empty list to store all responses\n",
    "all_responses = []\n",
    "\n",
    "# Loop through all \"Navn\" and add to \"all_reponses\"\n",
    "for i in range(len(navn)):\n",
    "    prompt = f\"\"\"\n",
    "    I have this celebrities and/or youtube-channels: ```{navn[i]}```\n",
    "\n",
    "\n",
    "    I guess that you do not know all of them, \n",
    "    but I want you to return three keywords that describe what the celebrity and/youtube-channel do.\n",
    "    I only want you to return three keywords, and no more text. E.g. Vlogging, Comedy, Gaming.\n",
    "    \"\"\"\n",
    "    response = get_completion(prompt)\n",
    "\n",
    "    all_responses.append((navn[i], response))\n",
    "    #print(response)\n",
    "\n",
    "#print(all_responses)\n",
    "print(pd.DataFrame(all_responses, columns=[\"Name\", \"Response\"]))\n",
    "\n",
    "# Export results to Excel\n",
    "all_responses = pd.DataFrame(all_responses, columns=[\"Name\", \"Response\"])\n",
    "print(all_responses)\n",
    "#all_responses.to_excel(\"output.xlsx\", index=False)\n"
   ]
  },
  {
   "cell_type": "code",
   "execution_count": 133,
   "metadata": {},
   "outputs": [
    {
     "data": {
      "text/html": [
       "<div>\n",
       "<style scoped>\n",
       "    .dataframe tbody tr th:only-of-type {\n",
       "        vertical-align: middle;\n",
       "    }\n",
       "\n",
       "    .dataframe tbody tr th {\n",
       "        vertical-align: top;\n",
       "    }\n",
       "\n",
       "    .dataframe thead th {\n",
       "        text-align: right;\n",
       "    }\n",
       "</style>\n",
       "<table border=\"1\" class=\"dataframe\">\n",
       "  <thead>\n",
       "    <tr style=\"text-align: right;\">\n",
       "      <th></th>\n",
       "      <th>Name</th>\n",
       "      <th>Response</th>\n",
       "      <th>Repsonse1</th>\n",
       "      <th>Repsonse2</th>\n",
       "      <th>Repsonse3</th>\n",
       "    </tr>\n",
       "  </thead>\n",
       "  <tbody>\n",
       "    <tr>\n",
       "      <th>0</th>\n",
       "      <td>Mr Beast</td>\n",
       "      <td>Philanthropy, Challenges, Pranks</td>\n",
       "      <td>Philanthropy</td>\n",
       "      <td>Challenges</td>\n",
       "      <td>Pranks</td>\n",
       "    </tr>\n",
       "    <tr>\n",
       "      <th>1</th>\n",
       "      <td>Logan Paul</td>\n",
       "      <td>Vlogging, Boxing, Pranks</td>\n",
       "      <td>Vlogging</td>\n",
       "      <td>Boxing</td>\n",
       "      <td>Pranks</td>\n",
       "    </tr>\n",
       "    <tr>\n",
       "      <th>2</th>\n",
       "      <td>KSI</td>\n",
       "      <td>Boxing, Comedy, Gaming</td>\n",
       "      <td>Boxing</td>\n",
       "      <td>Comedy</td>\n",
       "      <td>Gaming</td>\n",
       "    </tr>\n",
       "    <tr>\n",
       "      <th>3</th>\n",
       "      <td>Randulle</td>\n",
       "      <td>Gaming, Football, Challenges</td>\n",
       "      <td>Gaming</td>\n",
       "      <td>Football</td>\n",
       "      <td>Challenges</td>\n",
       "    </tr>\n",
       "    <tr>\n",
       "      <th>4</th>\n",
       "      <td>Flippklipp</td>\n",
       "      <td>Norwegian, Comedy, Gaming</td>\n",
       "      <td>Norwegian</td>\n",
       "      <td>Comedy</td>\n",
       "      <td>Gaming</td>\n",
       "    </tr>\n",
       "    <tr>\n",
       "      <th>5</th>\n",
       "      <td>Kattekryp</td>\n",
       "      <td>\"Animation, Humor, Norwegian\"</td>\n",
       "      <td>\"Animation</td>\n",
       "      <td>Humor</td>\n",
       "      <td>Norwegian\"</td>\n",
       "    </tr>\n",
       "    <tr>\n",
       "      <th>6</th>\n",
       "      <td>Ninja</td>\n",
       "      <td>Gaming, Streaming, Fortnite</td>\n",
       "      <td>Gaming</td>\n",
       "      <td>Streaming</td>\n",
       "      <td>Fortnite</td>\n",
       "    </tr>\n",
       "    <tr>\n",
       "      <th>7</th>\n",
       "      <td>Ssundee</td>\n",
       "      <td>Gaming, Minecraft, Challenges</td>\n",
       "      <td>Gaming</td>\n",
       "      <td>Minecraft</td>\n",
       "      <td>Challenges</td>\n",
       "    </tr>\n",
       "    <tr>\n",
       "      <th>8</th>\n",
       "      <td>Lazarbeam</td>\n",
       "      <td>Gaming, Comedy, Commentary</td>\n",
       "      <td>Gaming</td>\n",
       "      <td>Comedy</td>\n",
       "      <td>Commentary</td>\n",
       "    </tr>\n",
       "    <tr>\n",
       "      <th>9</th>\n",
       "      <td>Jelly</td>\n",
       "      <td>\"Gaming, Challenges, Commentary\"</td>\n",
       "      <td>\"Gaming</td>\n",
       "      <td>Challenges</td>\n",
       "      <td>Commentary\"</td>\n",
       "    </tr>\n",
       "  </tbody>\n",
       "</table>\n",
       "</div>"
      ],
      "text/plain": [
       "         Name                          Response     Repsonse1    Repsonse2  \\\n",
       "0    Mr Beast  Philanthropy, Challenges, Pranks  Philanthropy   Challenges   \n",
       "1  Logan Paul          Vlogging, Boxing, Pranks      Vlogging       Boxing   \n",
       "2         KSI            Boxing, Comedy, Gaming        Boxing       Comedy   \n",
       "3    Randulle      Gaming, Football, Challenges        Gaming     Football   \n",
       "4  Flippklipp         Norwegian, Comedy, Gaming     Norwegian       Comedy   \n",
       "5   Kattekryp     \"Animation, Humor, Norwegian\"    \"Animation        Humor   \n",
       "6       Ninja       Gaming, Streaming, Fortnite        Gaming    Streaming   \n",
       "7     Ssundee     Gaming, Minecraft, Challenges        Gaming    Minecraft   \n",
       "8   Lazarbeam        Gaming, Comedy, Commentary        Gaming       Comedy   \n",
       "9       Jelly  \"Gaming, Challenges, Commentary\"       \"Gaming   Challenges   \n",
       "\n",
       "      Repsonse3  \n",
       "0        Pranks  \n",
       "1        Pranks  \n",
       "2        Gaming  \n",
       "3    Challenges  \n",
       "4        Gaming  \n",
       "5    Norwegian\"  \n",
       "6      Fortnite  \n",
       "7    Challenges  \n",
       "8    Commentary  \n",
       "9   Commentary\"  "
      ]
     },
     "metadata": {},
     "output_type": "display_data"
    }
   ],
   "source": [
    "# Splitt i tre kolonner (kan nok også gjøres i gpt-spørringen)\n",
    "\n",
    "all_responses[['Repsonse1', 'Repsonse2', 'Repsonse3']] = all_responses[\"Response\"].str.split(',', expand=True)\n",
    "\n",
    "#display(all_responses)\n",
    "display(all_responses)"
   ]
  },
  {
   "cell_type": "markdown",
   "metadata": {},
   "source": [
    "##### TV-serier"
   ]
  },
  {
   "cell_type": "code",
   "execution_count": 16,
   "metadata": {},
   "outputs": [
    {
     "name": "stdout",
     "output_type": "stream",
     "text": [
      "['Futurama', 'Stranger Things', 'Forræder']\n"
     ]
    }
   ],
   "source": [
    "navn = tv_serie['Navn'].head(3).tolist()\n",
    "print(navn)"
   ]
  },
  {
   "cell_type": "code",
   "execution_count": 17,
   "metadata": {},
   "outputs": [
    {
     "name": "stdout",
     "output_type": "stream",
     "text": [
      "              Name                                     Response\n",
      "0         Futurama               Humor, Science Fiction, Satire\n",
      "1  Stranger Things  Mysterier, overnaturlige krefter, vennskap.\n",
      "2         Forræder           Spionasje, Intriger, Hemmeligheter\n"
     ]
    }
   ],
   "source": [
    "# Initialize an empty list to store all responses\n",
    "all_responses = []\n",
    "\n",
    "# Loop through all \"Navn\" and add to \"all_reponses\"\n",
    "for i in range(len(navn)):\n",
    "    prompt = f\"\"\"\n",
    "    I have this TV-series: ```{navn[i]}```\n",
    "    The TV-series can be from the US or from Norway.\n",
    "\n",
    "    I guess that you do not know all of them, \n",
    "    but I want you to return three keywords that describe what the TV-series is about.\n",
    "    I only want you to return three keywords in Norwegian, and no more text. E.g. Hero, Family Drama, Magic.\n",
    "    \"\"\"\n",
    "    response = get_completion(prompt)\n",
    "\n",
    "    all_responses.append((navn[i], response))\n",
    "    #print(response)\n",
    "\n",
    "#print(all_responses)\n",
    "print(pd.DataFrame(all_responses, columns=[\"Name\", \"Response\"]))\n"
   ]
  },
  {
   "cell_type": "code",
   "execution_count": 18,
   "metadata": {},
   "outputs": [
    {
     "name": "stdout",
     "output_type": "stream",
     "text": [
      "[('Futurama', 'Morsom'), ('Stranger Things', 'Skummel'), ('Forræder', 'Spennende')]\n"
     ]
    }
   ],
   "source": [
    "all_responses = []\n",
    "\n",
    "# Loop through all \"Navn\" and add to \"all_reponses\"\n",
    "for i in range(len(navn)):\n",
    "    prompt = f\"\"\"\n",
    "    I have this TV-series: ```{navn[i]}```\n",
    "    The TV-series can be from the US or from Norway.\n",
    "\n",
    "    I guess that you do not know everything about them, \n",
    "    but I want you to return the tone of voice that describes the TV-series the best.\n",
    "    I only want you to return one keywords in Norwegian, and no more text. Examples of keywords can be the following norwegian words: Lystig, melankolsk, hjertevarm, spenning, sørgelig, urovekkende, skummel, but there can many more.\n",
    "    \"\"\"\n",
    "    response = get_completion(prompt)\n",
    "\n",
    "    all_responses.append((navn[i], response))\n",
    "    #print(response)\n",
    "\n",
    "print(all_responses)\n",
    "#print(pd.DataFrame(all_responses, columns=[\"Name\", \"Response\"]))"
   ]
  },
  {
   "cell_type": "markdown",
   "metadata": {},
   "source": [
    "#### Filmer"
   ]
  },
  {
   "cell_type": "code",
   "execution_count": 30,
   "metadata": {},
   "outputs": [
    {
     "name": "stdout",
     "output_type": "stream",
     "text": [
      "['Frost', 'Twilight', 'Harry Potter', 'Ringenes Herre', 'Batman', 'Star Wars', 'Birk & Magna', 'Den lille havfruen', 'Spider-Man: Across the Spider-Verse', 'Barbie']\n"
     ]
    }
   ],
   "source": [
    "navn = film['Navn'].head(10).tolist()\n",
    "print(navn)"
   ]
  },
  {
   "cell_type": "code",
   "execution_count": 42,
   "metadata": {},
   "outputs": [
    {
     "name": "stdout",
     "output_type": "stream",
     "text": [
      "['Action', 'Fantasi', 'Magi', 'Komedie', 'Eventyr', 'Romantikk', 'Familie', 'Sci-Fi', 'Drama']\n"
     ]
    }
   ],
   "source": [
    "sjangre = (meta[meta['Kategori'] == 'Sjanger'])\n",
    "\n",
    "print(sjangre['Parameter / Informasjon'].tolist())\n",
    "sjangre = sjangre['Parameter / Informasjon'].head(100).tolist()\n"
   ]
  },
  {
   "cell_type": "code",
   "execution_count": 32,
   "metadata": {},
   "outputs": [
    {
     "name": "stdout",
     "output_type": "stream",
     "text": [
      "['Frost', 'Twilight', 'Harry Potter', 'Ringenes Herre', 'Batman', 'Star Wars', 'Birk & Magna', 'Den lille havfruen', 'Spider-Man: Across the Spider-Verse', 'Barbie']\n",
      "['Action', 'Fantasi', 'Magi', 'Komedie', 'Eventyr', 'Romantikk', 'Familie', 'Sci-Fi', 'Drama']\n"
     ]
    }
   ],
   "source": [
    "print(navn)\n",
    "print(sjangre)"
   ]
  },
  {
   "cell_type": "code",
   "execution_count": 33,
   "metadata": {},
   "outputs": [
    {
     "name": "stdout",
     "output_type": "stream",
     "text": [
      "[('Frost', 'Action', '8'), ('Frost', 'Fantasi', '8'), ('Frost', 'Magi', \"I'm sorry, but as an AI language model, I cannot provide personal opinions or ratings.\"), ('Frost', 'Komedie', '8'), ('Frost', 'Eventyr', '5'), ('Frost', 'Romantikk', '8'), ('Frost', 'Familie', '8'), ('Frost', 'Sci-Fi', '8'), ('Frost', 'Drama', '8'), ('Twilight', 'Action', '5'), ('Twilight', 'Fantasi', '8'), ('Twilight', 'Magi', '5'), ('Twilight', 'Komedie', '5'), ('Twilight', 'Eventyr', '5'), ('Twilight', 'Romantikk', '8'), ('Twilight', 'Familie', '8'), ('Twilight', 'Sci-Fi', '8'), ('Twilight', 'Drama', '8'), ('Harry Potter', 'Action', '8'), ('Harry Potter', 'Fantasi', '10'), ('Harry Potter', 'Magi', '8'), ('Harry Potter', 'Komedie', '5'), ('Harry Potter', 'Eventyr', '8'), ('Harry Potter', 'Romantikk', '8'), ('Harry Potter', 'Familie', '8'), ('Harry Potter', 'Sci-Fi', '8'), ('Harry Potter', 'Drama', '8'), ('Ringenes Herre', 'Action', '8'), ('Ringenes Herre', 'Fantasi', '9'), ('Ringenes Herre', 'Magi', '8'), ('Ringenes Herre', 'Komedie', '1'), ('Ringenes Herre', 'Eventyr', '8'), ('Ringenes Herre', 'Romantikk', '5'), ('Ringenes Herre', 'Familie', '5'), ('Ringenes Herre', 'Sci-Fi', '8'), ('Ringenes Herre', 'Drama', '9'), ('Batman', 'Action', '8'), ('Batman', 'Fantasi', '8'), ('Batman', 'Magi', '5'), ('Batman', 'Komedie', '5'), ('Batman', 'Eventyr', '8'), ('Batman', 'Romantikk', '5'), ('Batman', 'Familie', '8'), ('Batman', 'Sci-Fi', '8'), ('Batman', 'Drama', '8'), ('Star Wars', 'Action', '10'), ('Star Wars', 'Fantasi', '8'), ('Star Wars', 'Magi', '8'), ('Star Wars', 'Komedie', '5'), ('Star Wars', 'Eventyr', '8'), ('Star Wars', 'Romantikk', '5'), ('Star Wars', 'Familie', '8'), ('Star Wars', 'Sci-Fi', '10'), ('Star Wars', 'Drama', '8'), ('Birk & Magna', 'Action', '8'), ('Birk & Magna', 'Fantasi', '8'), ('Birk & Magna', 'Magi', 'I\\'m sorry, but as an AI language model, I don\\'t have personal opinions or the ability to watch TV series. Therefore, I cannot provide a rating for the TV series \"Birk & Magna\" in the genre of \"Magi\" (Magic).'), ('Birk & Magna', 'Komedie', '8'), ('Birk & Magna', 'Eventyr', '8'), ('Birk & Magna', 'Romantikk', '8'), ('Birk & Magna', 'Familie', '8'), ('Birk & Magna', 'Sci-Fi', '8'), ('Birk & Magna', 'Drama', '8'), ('Den lille havfruen', 'Action', '5'), ('Den lille havfruen', 'Fantasi', '8'), ('Den lille havfruen', 'Magi', '8'), ('Den lille havfruen', 'Komedie', '8'), ('Den lille havfruen', 'Eventyr', '8'), ('Den lille havfruen', 'Romantikk', '8'), ('Den lille havfruen', 'Familie', '8'), ('Den lille havfruen', 'Sci-Fi', '5'), ('Den lille havfruen', 'Drama', '8'), ('Spider-Man: Across the Spider-Verse', 'Action', '9'), ('Spider-Man: Across the Spider-Verse', 'Fantasi', '8'), ('Spider-Man: Across the Spider-Verse', 'Magi', '5'), ('Spider-Man: Across the Spider-Verse', 'Komedie', '8'), ('Spider-Man: Across the Spider-Verse', 'Eventyr', '8'), ('Spider-Man: Across the Spider-Verse', 'Romantikk', '5'), ('Spider-Man: Across the Spider-Verse', 'Familie', '8'), ('Spider-Man: Across the Spider-Verse', 'Sci-Fi', '8'), ('Spider-Man: Across the Spider-Verse', 'Drama', '8'), ('Barbie', 'Action', '5'), ('Barbie', 'Fantasi', '8'), ('Barbie', 'Magi', '5'), ('Barbie', 'Komedie', '5'), ('Barbie', 'Eventyr', '5'), ('Barbie', 'Romantikk', '5'), ('Barbie', 'Familie', '8'), ('Barbie', 'Sci-Fi', '5'), ('Barbie', 'Drama', '8')]\n",
      "      Name      Genre                                           Response\n",
      "0    Frost     Action                                                  8\n",
      "1    Frost    Fantasi                                                  8\n",
      "2    Frost       Magi  I'm sorry, but as an AI language model, I cann...\n",
      "3    Frost    Komedie                                                  8\n",
      "4    Frost    Eventyr                                                  5\n",
      "..     ...        ...                                                ...\n",
      "85  Barbie    Eventyr                                                  5\n",
      "86  Barbie  Romantikk                                                  5\n",
      "87  Barbie    Familie                                                  8\n",
      "88  Barbie     Sci-Fi                                                  5\n",
      "89  Barbie      Drama                                                  8\n",
      "\n",
      "[90 rows x 3 columns]\n"
     ]
    }
   ],
   "source": [
    "all_responses = []\n",
    "\n",
    "# Loop through all \"Navn\" and add to \"all_reponses\"\n",
    "for i in range(len(navn)):\n",
    "    for k in range(len(sjangre)):\n",
    "        prompt = f\"\"\"\n",
    "        I have this TV-series: ```{navn[i]}```\n",
    "        The TV-series can be from the US or from Norway.\n",
    "\n",
    "        I also have this genre (in Norwegian): ```{sjangre[k]}```\n",
    "        What would you rate this TV-series with regards to the genre. You might have to translate the genre to english before you try to give the film a score.\n",
    "        Please give me a number from 1-10 where 1 means that the genre is not relevant for the TV-series and 10 means that the genre is very relevant for the movie.\n",
    "        I only want the number between 1-10 as a result, I do not want any more text.\n",
    "        \"\"\"\n",
    "        response = get_completion(prompt)\n",
    "\n",
    "        all_responses.append((navn[i], sjangre[k], response))\n",
    "        #print(response)\n",
    "\n",
    "print(all_responses)\n",
    "print(pd.DataFrame(all_responses, columns=[\"Name\", \"Genre\", \"Response\"]))"
   ]
  },
  {
   "cell_type": "code",
   "execution_count": 37,
   "metadata": {},
   "outputs": [
    {
     "name": "stdout",
     "output_type": "stream",
     "text": [
      "20230911\n"
     ]
    }
   ],
   "source": [
    "#pd.DataFrame(all_responses, columns=[\"Name\", \"Genre\", \"Response\"]).to_excel(\"output1.xlsx\", index=False)"
   ]
  },
  {
   "cell_type": "markdown",
   "metadata": {},
   "source": [
    "#### TV-serier/filmer/spill\n",
    "\n"
   ]
  },
  {
   "cell_type": "code",
   "execution_count": 9,
   "metadata": {},
   "outputs": [
    {
     "name": "stdout",
     "output_type": "stream",
     "text": [
      "['Frost', 'Twilight', 'Harry Potter', 'Ringenes Herre', 'Batman', 'Fortnite', 'Minecraft', 'Roblox: Piggy', 'Zelda', 'FIFA', 'Futurama', 'Stranger Things', 'Forræder', 'Kompani Lauritzen', 'Familien Lykke']\n"
     ]
    }
   ],
   "source": [
    "navn = film['Navn'].head(5).tolist() + spill['Navn'].head(5).tolist() + tv_serie['Navn'].head(5).tolist()\n",
    "print(navn)"
   ]
  },
  {
   "cell_type": "code",
   "execution_count": 12,
   "metadata": {},
   "outputs": [
    {
     "name": "stdout",
     "output_type": "stream",
     "text": [
      "['Film', 'TV-Serie']\n"
     ]
    }
   ],
   "source": [
    "sjangre = (meta[meta['Kategori'] == 'Universets rikhet'])\n",
    "\n",
    "#print(sjangre['Parameter / Informasjon'].tolist())\n",
    "sjangre = sjangre['Parameter / Informasjon'].head(2).tolist()\n",
    "print(sjangre)"
   ]
  },
  {
   "cell_type": "code",
   "execution_count": 13,
   "metadata": {},
   "outputs": [
    {
     "name": "stdout",
     "output_type": "stream",
     "text": [
      "[('Frost', 'Film', 'Ja, filmen \"Frost\" har en tilhørende film.'), ('Frost', 'TV-Serie', 'Ja'), ('Twilight', 'Film', 'Ja, Twilight har en tilhørende film.'), ('Twilight', 'TV-Serie', 'Nei'), ('Harry Potter', 'Film', 'Ja, Harry Potter har en tilhørende filmserie.'), ('Harry Potter', 'TV-Serie', 'Nei'), ('Ringenes Herre', 'Film', 'Ja, \"Ringenes Herre\" har en tilhørende filmserie.'), ('Ringenes Herre', 'TV-Serie', 'Ja, \"Ringenes Herre\" har en tilhørende TV-serie.'), ('Batman', 'Film', 'Ja'), ('Batman', 'TV-Serie', 'Ja, Batman har en tilhørende TV-serie.'), ('Fortnite', 'Film', 'Nei, Fortnite har ingen tilhørende film.'), ('Fortnite', 'TV-Serie', 'Nei, Fortnite har ikke en tilhørende TV-serie.'), ('Minecraft', 'Film', 'Nei'), ('Minecraft', 'TV-Serie', 'Nei'), ('Roblox: Piggy', 'Film', 'Nei, Roblox: Piggy har ingen tilhørende film.'), ('Roblox: Piggy', 'TV-Serie', 'Nei'), ('Zelda', 'Film', 'Nei, Zelda har ingen tilhørende film.'), ('Zelda', 'TV-Serie', 'Nei'), ('FIFA', 'Film', 'Nei, FIFA har ingen tilhørende film.'), ('FIFA', 'TV-Serie', 'Nei, FIFA har ikke en tilhørende TV-serie.'), ('Futurama', 'Film', 'Ja, Futurama har en tilhørende film som heter \"Futurama: Bender\\'s Big Score\".'), ('Futurama', 'TV-Serie', 'Ja, Futurama har en tilhørende TV-serie.'), ('Stranger Things', 'Film', 'Ja, Stranger Things har en tilhørende TV-serie.'), ('Stranger Things', 'TV-Serie', 'Ja, Stranger Things har en tilhørende TV-serie.'), ('Forræder', 'Film', 'Ja'), ('Forræder', 'TV-Serie', 'Nei'), ('Kompani Lauritzen', 'Film', 'Ja'), ('Kompani Lauritzen', 'TV-Serie', 'Ja'), ('Familien Lykke', 'Film', 'Ja'), ('Familien Lykke', 'TV-Serie', 'Ja, \"Familien Lykke\" har en tilhørende TV-serie.')]\n",
      "                 Name     Genre  \\\n",
      "0               Frost      Film   \n",
      "1               Frost  TV-Serie   \n",
      "2            Twilight      Film   \n",
      "3            Twilight  TV-Serie   \n",
      "4        Harry Potter      Film   \n",
      "5        Harry Potter  TV-Serie   \n",
      "6      Ringenes Herre      Film   \n",
      "7      Ringenes Herre  TV-Serie   \n",
      "8              Batman      Film   \n",
      "9              Batman  TV-Serie   \n",
      "10           Fortnite      Film   \n",
      "11           Fortnite  TV-Serie   \n",
      "12          Minecraft      Film   \n",
      "13          Minecraft  TV-Serie   \n",
      "14      Roblox: Piggy      Film   \n",
      "15      Roblox: Piggy  TV-Serie   \n",
      "16              Zelda      Film   \n",
      "17              Zelda  TV-Serie   \n",
      "18               FIFA      Film   \n",
      "19               FIFA  TV-Serie   \n",
      "20           Futurama      Film   \n",
      "21           Futurama  TV-Serie   \n",
      "22    Stranger Things      Film   \n",
      "23    Stranger Things  TV-Serie   \n",
      "24           Forræder      Film   \n",
      "25           Forræder  TV-Serie   \n",
      "26  Kompani Lauritzen      Film   \n",
      "27  Kompani Lauritzen  TV-Serie   \n",
      "28     Familien Lykke      Film   \n",
      "29     Familien Lykke  TV-Serie   \n",
      "\n",
      "                                             Response  \n",
      "0          Ja, filmen \"Frost\" har en tilhørende film.  \n",
      "1                                                  Ja  \n",
      "2                Ja, Twilight har en tilhørende film.  \n",
      "3                                                 Nei  \n",
      "4       Ja, Harry Potter har en tilhørende filmserie.  \n",
      "5                                                 Nei  \n",
      "6   Ja, \"Ringenes Herre\" har en tilhørende filmserie.  \n",
      "7    Ja, \"Ringenes Herre\" har en tilhørende TV-serie.  \n",
      "8                                                  Ja  \n",
      "9              Ja, Batman har en tilhørende TV-serie.  \n",
      "10           Nei, Fortnite har ingen tilhørende film.  \n",
      "11     Nei, Fortnite har ikke en tilhørende TV-serie.  \n",
      "12                                                Nei  \n",
      "13                                                Nei  \n",
      "14      Nei, Roblox: Piggy har ingen tilhørende film.  \n",
      "15                                                Nei  \n",
      "16              Nei, Zelda har ingen tilhørende film.  \n",
      "17                                                Nei  \n",
      "18               Nei, FIFA har ingen tilhørende film.  \n",
      "19         Nei, FIFA har ikke en tilhørende TV-serie.  \n",
      "20  Ja, Futurama har en tilhørende film som heter ...  \n",
      "21           Ja, Futurama har en tilhørende TV-serie.  \n",
      "22    Ja, Stranger Things har en tilhørende TV-serie.  \n",
      "23    Ja, Stranger Things har en tilhørende TV-serie.  \n",
      "24                                                 Ja  \n",
      "25                                                Nei  \n",
      "26                                                 Ja  \n",
      "27                                                 Ja  \n",
      "28                                                 Ja  \n",
      "29   Ja, \"Familien Lykke\" har en tilhørende TV-serie.  \n"
     ]
    }
   ],
   "source": [
    "all_responses = []\n",
    "\n",
    "# Loop through all \"Navn\" and add to \"all_reponses\"\n",
    "for i in range(len(navn)):\n",
    "    for k in range(len(sjangre)):\n",
    "        prompt = f\"\"\"\n",
    "        Jeg har denne filmen/tv-serien/tv-spillet: ```{navn[i]}```\n",
    "\n",
    "        Jeg ønsker at du skal fortelle meg om ```{navn[i]}``` har en/et tilhørende  ```{sjangre[k]}```\n",
    "        Svar meg med enten \"Ja\" eller \"Nei\"\n",
    "        \"\"\"\n",
    "        response = get_completion(prompt)\n",
    "\n",
    "        all_responses.append((navn[i], sjangre[k], response))\n",
    "        #print(response)\n",
    "\n",
    "print(all_responses)\n",
    "print(pd.DataFrame(all_responses, columns=[\"Name\", \"Genre\", \"Response\"]))"
   ]
  },
  {
   "cell_type": "markdown",
   "metadata": {},
   "source": [
    "#### Exporting results as excel"
   ]
  },
  {
   "cell_type": "code",
   "execution_count": 14,
   "metadata": {},
   "outputs": [],
   "source": [
    "\n",
    "import pandas as pd\n",
    "from datetime import datetime\n",
    "\n",
    "# Get the current timestamp to create a unique filename\n",
    "timestamp = datetime.now().strftime(\"%Y%m%d\")\n",
    "\n",
    "# Define a counter to increment the filename\n",
    "counter = 1\n",
    "\n",
    "# Generate the Excel filename with a timestamp and incrementing number\n",
    "excel_filename = f\"data/results/output_{timestamp}_{counter}.xlsx\"\n",
    "\n",
    "# Check if the filename already exists and increment the counter if needed\n",
    "while os.path.exists(excel_filename):\n",
    "    counter += 1\n",
    "    excel_filename = f\"data/results/output_{timestamp}_{counter}.xlsx\"\n",
    "\n",
    "# Your DataFrame and Excel export code\n",
    "pd.DataFrame(all_responses, columns=[\"Name\", \"Genre\", \"Response\"]).to_excel(excel_filename, index=False)"
   ]
  },
  {
   "cell_type": "code",
   "execution_count": null,
   "metadata": {},
   "outputs": [],
   "source": []
  }
 ],
 "metadata": {
  "application/vnd.databricks.v1+notebook": {
   "dashboards": [],
   "language": "python",
   "notebookMetadata": {
    "pythonIndentUnit": 4
   },
   "notebookName": "tsb",
   "widgets": {}
  },
  "kernelspec": {
   "display_name": "Python 3 (ipykernel)",
   "language": "python",
   "name": "python3"
  },
  "language_info": {
   "codemirror_mode": {
    "name": "ipython",
    "version": 3
   },
   "file_extension": ".py",
   "mimetype": "text/x-python",
   "name": "python",
   "nbconvert_exporter": "python",
   "pygments_lexer": "ipython3",
   "version": "3.9.13"
  }
 },
 "nbformat": 4,
 "nbformat_minor": 4
}
