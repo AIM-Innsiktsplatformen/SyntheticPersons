{
 "cells": [
  {
   "cell_type": "code",
   "execution_count": 1,
   "metadata": {},
   "outputs": [
    {
     "name": "stdout",
     "output_type": "stream",
     "text": [
      "Requirement already satisfied: openai in /home/codespace/.local/lib/python3.10/site-packages (from -r requirements.txt (line 1)) (0.27.7)\n",
      "Requirement already satisfied: pandas in /home/codespace/.local/lib/python3.10/site-packages (from -r requirements.txt (line 2)) (2.0.2)\n",
      "Requirement already satisfied: matplotlib in /home/codespace/.local/lib/python3.10/site-packages (from -r requirements.txt (line 3)) (3.7.1)\n",
      "Requirement already satisfied: regex in /home/codespace/.local/lib/python3.10/site-packages (from -r requirements.txt (line 4)) (2023.5.5)\n",
      "Requirement already satisfied: requests>=2.20 in /home/codespace/.local/lib/python3.10/site-packages (from openai->-r requirements.txt (line 1)) (2.31.0)\n",
      "Requirement already satisfied: tqdm in /home/codespace/.local/lib/python3.10/site-packages (from openai->-r requirements.txt (line 1)) (4.65.0)\n",
      "Requirement already satisfied: aiohttp in /home/codespace/.local/lib/python3.10/site-packages (from openai->-r requirements.txt (line 1)) (3.8.4)\n",
      "Requirement already satisfied: python-dateutil>=2.8.2 in /home/codespace/.local/lib/python3.10/site-packages (from pandas->-r requirements.txt (line 2)) (2.8.2)\n",
      "Requirement already satisfied: pytz>=2020.1 in /home/codespace/.local/lib/python3.10/site-packages (from pandas->-r requirements.txt (line 2)) (2023.3)\n",
      "Requirement already satisfied: tzdata>=2022.1 in /home/codespace/.local/lib/python3.10/site-packages (from pandas->-r requirements.txt (line 2)) (2023.3)\n",
      "Requirement already satisfied: numpy>=1.21.0 in /home/codespace/.local/lib/python3.10/site-packages (from pandas->-r requirements.txt (line 2)) (1.24.3)\n",
      "Requirement already satisfied: contourpy>=1.0.1 in /home/codespace/.local/lib/python3.10/site-packages (from matplotlib->-r requirements.txt (line 3)) (1.0.7)\n",
      "Requirement already satisfied: cycler>=0.10 in /home/codespace/.local/lib/python3.10/site-packages (from matplotlib->-r requirements.txt (line 3)) (0.11.0)\n",
      "Requirement already satisfied: fonttools>=4.22.0 in /home/codespace/.local/lib/python3.10/site-packages (from matplotlib->-r requirements.txt (line 3)) (4.39.4)\n",
      "Requirement already satisfied: kiwisolver>=1.0.1 in /home/codespace/.local/lib/python3.10/site-packages (from matplotlib->-r requirements.txt (line 3)) (1.4.4)\n",
      "Requirement already satisfied: packaging>=20.0 in /home/codespace/.local/lib/python3.10/site-packages (from matplotlib->-r requirements.txt (line 3)) (23.1)\n",
      "Requirement already satisfied: pillow>=6.2.0 in /home/codespace/.local/lib/python3.10/site-packages (from matplotlib->-r requirements.txt (line 3)) (9.5.0)\n",
      "Requirement already satisfied: pyparsing>=2.3.1 in /home/codespace/.local/lib/python3.10/site-packages (from matplotlib->-r requirements.txt (line 3)) (3.0.9)\n",
      "Requirement already satisfied: six>=1.5 in /home/codespace/.local/lib/python3.10/site-packages (from python-dateutil>=2.8.2->pandas->-r requirements.txt (line 2)) (1.16.0)\n",
      "Requirement already satisfied: charset-normalizer<4,>=2 in /home/codespace/.local/lib/python3.10/site-packages (from requests>=2.20->openai->-r requirements.txt (line 1)) (3.1.0)\n",
      "Requirement already satisfied: idna<4,>=2.5 in /home/codespace/.local/lib/python3.10/site-packages (from requests>=2.20->openai->-r requirements.txt (line 1)) (3.4)\n",
      "Requirement already satisfied: urllib3<3,>=1.21.1 in /home/codespace/.local/lib/python3.10/site-packages (from requests>=2.20->openai->-r requirements.txt (line 1)) (2.0.2)\n",
      "Requirement already satisfied: certifi>=2017.4.17 in /home/codespace/.local/lib/python3.10/site-packages (from requests>=2.20->openai->-r requirements.txt (line 1)) (2023.5.7)\n",
      "Requirement already satisfied: attrs>=17.3.0 in /home/codespace/.local/lib/python3.10/site-packages (from aiohttp->openai->-r requirements.txt (line 1)) (23.1.0)\n",
      "Requirement already satisfied: multidict<7.0,>=4.5 in /home/codespace/.local/lib/python3.10/site-packages (from aiohttp->openai->-r requirements.txt (line 1)) (6.0.4)\n",
      "Requirement already satisfied: async-timeout<5.0,>=4.0.0a3 in /home/codespace/.local/lib/python3.10/site-packages (from aiohttp->openai->-r requirements.txt (line 1)) (4.0.2)\n",
      "Requirement already satisfied: yarl<2.0,>=1.0 in /home/codespace/.local/lib/python3.10/site-packages (from aiohttp->openai->-r requirements.txt (line 1)) (1.9.2)\n",
      "Requirement already satisfied: frozenlist>=1.1.1 in /home/codespace/.local/lib/python3.10/site-packages (from aiohttp->openai->-r requirements.txt (line 1)) (1.3.3)\n",
      "Requirement already satisfied: aiosignal>=1.1.2 in /home/codespace/.local/lib/python3.10/site-packages (from aiohttp->openai->-r requirements.txt (line 1)) (1.3.1)\n",
      "\n",
      "\u001b[1m[\u001b[0m\u001b[34;49mnotice\u001b[0m\u001b[1;39;49m]\u001b[0m\u001b[39;49m A new release of pip is available: \u001b[0m\u001b[31;49m23.1.1\u001b[0m\u001b[39;49m -> \u001b[0m\u001b[32;49m23.1.2\u001b[0m\n",
      "\u001b[1m[\u001b[0m\u001b[34;49mnotice\u001b[0m\u001b[1;39;49m]\u001b[0m\u001b[39;49m To update, run: \u001b[0m\u001b[32;49mpip install --upgrade pip\u001b[0m\n"
     ]
    },
    {
     "ename": "ModuleNotFoundError",
     "evalue": "No module named 'api_keys'",
     "output_type": "error",
     "traceback": [
      "\u001b[0;31m---------------------------------------------------------------------------\u001b[0m",
      "\u001b[0;31mModuleNotFoundError\u001b[0m                       Traceback (most recent call last)",
      "Cell \u001b[0;32mIn[1], line 8\u001b[0m\n\u001b[1;32m      6\u001b[0m \u001b[39mimport\u001b[39;00m \u001b[39mre\u001b[39;00m\n\u001b[1;32m      7\u001b[0m \u001b[39mimport\u001b[39;00m \u001b[39mregex\u001b[39;00m\n\u001b[0;32m----> 8\u001b[0m \u001b[39mfrom\u001b[39;00m \u001b[39msource\u001b[39;00m\u001b[39m.\u001b[39;00m\u001b[39mapi_call\u001b[39;00m \u001b[39mimport\u001b[39;00m generate_chatgpt4_response\n\u001b[1;32m      9\u001b[0m \u001b[39mfrom\u001b[39;00m \u001b[39msource\u001b[39;00m\u001b[39m.\u001b[39;00m\u001b[39mapi_keys\u001b[39;00m \u001b[39mimport\u001b[39;00m OPENAI_API_KEY\n",
      "File \u001b[0;32m/workspaces/SyntheticPersons/source/api_call.py:2\u001b[0m\n\u001b[1;32m      1\u001b[0m \u001b[39mimport\u001b[39;00m \u001b[39mopenai\u001b[39;00m\n\u001b[0;32m----> 2\u001b[0m \u001b[39mfrom\u001b[39;00m \u001b[39mapi_keys\u001b[39;00m \u001b[39mimport\u001b[39;00m OPENAI_API_KEY\n\u001b[1;32m      4\u001b[0m \u001b[39mdef\u001b[39;00m \u001b[39mgenerate_chatgpt_response\u001b[39m(history):\n\u001b[1;32m      5\u001b[0m     response \u001b[39m=\u001b[39m openai\u001b[39m.\u001b[39mChatCompletion\u001b[39m.\u001b[39mcreate(\n\u001b[1;32m      6\u001b[0m         model\u001b[39m=\u001b[39m\u001b[39m\"\u001b[39m\u001b[39mgpt-3.5-turbo\u001b[39m\u001b[39m\"\u001b[39m,\n\u001b[1;32m      7\u001b[0m         max_tokens\u001b[39m=\u001b[39m\u001b[39m500\u001b[39m,\n\u001b[1;32m      8\u001b[0m         temperature\u001b[39m=\u001b[39m\u001b[39m1.2\u001b[39m,\n\u001b[1;32m      9\u001b[0m         messages\u001b[39m=\u001b[39mhistory,\n\u001b[1;32m     10\u001b[0m     )\n",
      "\u001b[0;31mModuleNotFoundError\u001b[0m: No module named 'api_keys'"
     ]
    }
   ],
   "source": [
    "import sys\n",
    "!{sys.executable} -m pip install -r requirements.txt\n",
    "import openai\n",
    "import matplotlib.pyplot as plt\n",
    "import pandas as pd\n",
    "import re\n",
    "import regex\n",
    "from source.api_call import generate_chatgpt4_response\n",
    "from source.api_keys import OPENAI_API_KEY\n"
   ]
  },
  {
   "cell_type": "code",
   "execution_count": 7,
   "metadata": {},
   "outputs": [],
   "source": [
    "### Håndtere meldinger og chat-historikk\n",
    "\n",
    "messages = []\n",
    "\n",
    "def add_user_message(messages, msg):\n",
    "    messages.append({\"role\": \"user\", \"content\": msg})\n",
    "    return messages\n",
    "\n",
    "def add_assistant_message(messages, msg):\n",
    "    messages.append({\"role\": \"assistant\", \"content\": msg})\n",
    "    return messages\n",
    "\n",
    "def add_system_message(messages, msg):\n",
    "    messages.insert(0, {\"role\": \"system\", \"content\": msg})\n",
    "    return messages"
   ]
  },
  {
   "cell_type": "code",
   "execution_count": 8,
   "metadata": {},
   "outputs": [],
   "source": [
    "### Les segmenter fra CSV-fil og generer prompt 1 (beskrivende variabler for segmentene)\n",
    "\n",
    "beskrivende_variabler = \"Alder (mellom 8 og 12 år), kjønn (jente eller gutt), skoletrinn, fritidsinteresser (tre stykker), mediepreferanse\"\n",
    "\n",
    "def generate_prompt_1():\n",
    "    segments_file = 'data/segments_testdata.csv'\n",
    "    segments = pd.read_csv(segments_file, index_col=\"Nr\")\n",
    "    segments = segments.to_csv(index = False)\n",
    "\n",
    "    prompt = \"Vi har fire segmenter av personer som er scoret på ulike parametere: \\n\" \\\n",
    "        + segments +\\\n",
    "        \"\\nGenerer følgende beskrivende variabler for hvert av segmentene: \"\\\n",
    "            + beskrivende_variabler +\\\n",
    "        \"\\nPresenter resultatet i en tabell på json-format.\"\n",
    "    return prompt\n",
    "\n",
    "prompt_1 = generate_prompt_1()\n",
    "messages = add_user_message(messages, prompt_1)\n",
    "reply = generate_chatgpt4_response(messages)\n",
    "messages = add_assistant_message(messages, reply)"
   ]
  },
  {
   "cell_type": "code",
   "execution_count": 10,
   "metadata": {},
   "outputs": [
    {
     "name": "stdout",
     "output_type": "stream",
     "text": [
      "{\n",
      "  \"Segment 1\": {\n",
      "    \"Alder\": 8,\n",
      "    \"Kjønn\": \"jente\",\n",
      "    \"Skoletrinn\": 3,\n",
      "    \"Fritidsinteresser\": [\"tegning\", \"sykling\", \"lesing\"],\n",
      "    \"Mediepreferanse\": \"bøker\"\n",
      "  },\n",
      "  \"Segment 2\": {\n",
      "    \"Alder\": 10,\n",
      "    \"Kjønn\": \"gutt\",\n",
      "    \"Skoletrinn\": 5,\n",
      "    \"Fritidsinteresser\": [\"fotball\", \"spille videospill\", \"se på TV-serier\"],\n",
      "    \"Mediepreferanse\": \"TV-serier\"\n",
      "  },\n",
      "  \"Segment 3\": {\n",
      "    \"Alder\": 12,\n",
      "    \"Kjønn\": \"jente\",\n",
      "    \"Skoletrinn\": 7,\n",
      "    \"Fritidsinteresser\": [\"skriving\", \"svømming\", \"frivillig arbeid\"],\n",
      "    \"Mediepreferanse\": \"filmer\"\n",
      "  },\n",
      "  \"Segment 4\": {\n",
      "    \"Alder\": 11,\n",
      "    \"Kjønn\": \"gutt\",\n",
      "    \"Skoletrinn\": 6,\n",
      "    \"Fritidsinteresser\": [\"dans\", \"matlaging\", \"spille musikkinstrumenter\"],\n",
      "    \"Mediepreferanse\": \"musikk\"\n",
      "  }\n",
      "}\n"
     ]
    }
   ],
   "source": [
    "print(reply)\n",
    "\n",
    "\n",
    "reply_eksempel = \"\"\"\n",
    "{\n",
    "  \"Segment 1\": {\n",
    "    \"Alder\": 8,\n",
    "    \"Kjønn\": \"jente\",\n",
    "    \"Skoletrinn\": 3,\n",
    "    \"Fritidsinteresser\": [\"tegning\", \"sykling\", \"lesing\"],\n",
    "    \"Mediepreferanse\": \"bøker\"\n",
    "  },\n",
    "  \"Segment 2\": {\n",
    "    \"Alder\": 10,\n",
    "    \"Kjønn\": \"gutt\",\n",
    "    \"Skoletrinn\": 5,\n",
    "    \"Fritidsinteresser\": [\"fotball\", \"spille videospill\", \"se på TV-serier\"],\n",
    "    \"Mediepreferanse\": \"TV-serier\"\n",
    "  },\n",
    "  \"Segment 3\": {\n",
    "    \"Alder\": 12,\n",
    "    \"Kjønn\": \"jente\",\n",
    "    \"Skoletrinn\": 7,\n",
    "    \"Fritidsinteresser\": [\"skriving\", \"svømming\", \"frivillig arbeid\"],\n",
    "    \"Mediepreferanse\": \"filmer\"\n",
    "  },\n",
    "  \"Segment 4\": {\n",
    "    \"Alder\": 11,\n",
    "    \"Kjønn\": \"gutt\",\n",
    "    \"Skoletrinn\": 6,\n",
    "    \"Fritidsinteresser\": [\"dans\", \"matlaging\", \"spille musikkinstrumenter\"],\n",
    "    \"Mediepreferanse\": \"musikk\"\n",
    "  }\n",
    "}\n",
    "\"\"\""
   ]
  },
  {
   "cell_type": "code",
   "execution_count": 11,
   "metadata": {},
   "outputs": [],
   "source": [
    "### Funksjon for å identifisere json-objekt i fritekst\n",
    "\n",
    "def find_json(str): \n",
    "  pattern = regex.compile(r'\\{(?:[^{}]|(?R))*\\}')\n",
    "  res = pattern.findall(str)\n",
    "  return res[0]\n"
   ]
  },
  {
   "cell_type": "code",
   "execution_count": 12,
   "metadata": {},
   "outputs": [
    {
     "name": "stdout",
     "output_type": "stream",
     "text": [
      "{\n",
      "  \"Segment 1\": {\n",
      "    \"Personas\": \"Emma er 8 år gammel og går i 3. klasse. Hun er en jente som elsker å tegne, sykle og lese i sin fritid. Emma liker mest å lese bøker som hun kan relatere seg til og som har en favorittkarakter. Hun foretrekker historier med et moralsk budskap og liker triste og morsomme historier. Emma er selvfokusert og oppgaveorientert, men har også en interesse for mennesker. Hun er nysgjerrig og åpen for nye ideer, men liker også stabilitet og struktur i livet sitt.\"\n",
      "  },\n",
      "  \"Segment 2\": {\n",
      "    \"Personas\": \"Mikkel er 10 år gammel og går i 5. klasse. Han er en gutt som elsker å spille fotball, videospill og se på TV-serier. Mikkel liker å se på TV-serier med jevnaldrende karakterer og foretrekker historier med et sterkt moralsk budskap. Han liker også skumle og spennende historier. Mikkel er menneskeorientert og åpensinnet, og han verdsetter stabilitet og struktur. Han er også interessert og nysgjerrig på nye ting, men er ikke spesielt oppgaveorientert.\"\n",
      "  },\n",
      "  \"Segment 3\": {\n",
      "    \"Personas\": \"Sofie er 12 år gammel og går i 7. klasse. Hun er en jente som liker å skrive, svømme og jobbe frivillig i sin fritid. Sofie liker å se på filmer som har et sterkt moralsk budskap og foretrekker skumle historier. Hun liker også historier der hun kan ha en favorittkarakter. Sofie er oppgaveorientert og interessert i mennesker, men hun er ikke spesielt selvfokusert. Hun er nysgjerrig og åpen for nye ideer, men liker også stabilitet og struktur i livet sitt.\"\n",
      "  },\n",
      "  \"Segment 4\": {\n",
      "    \"Personas\": \"Jonas er 11 år gammel og går i 6. klasse. Han er en gutt som liker å danse, lage mat og spille musikkinstrumenter i sin fritid. Jonas liker å lytte til musikk med jevnaldrende karakterer og foretrekker historier med et sterkt moralsk budskap. Han liker triste, morsomme og spennende historier. Jonas er selvfokusert og oppgaveorientert, og han verdsetter stabilitet og struktur. Han er også interessert og nysgjerrig på nye ting, men er ikke spesielt menneskeorientert.\"\n",
      "  }\n",
      "}\n"
     ]
    }
   ],
   "source": [
    "### Les og strukturer resultatet fra prompt 1 (beskrivende variabler for segmentene) og generer syntetiske personas fra segmentenes profil\n",
    "\n",
    "def generate_prompt_2(input):\n",
    "    input_json = find_json(input)\n",
    "    df = pd.read_json(input_json)\n",
    "    segments_descriptions = df.to_csv(index_label=\"Variabel\")\n",
    "\n",
    "    prompt = \"Dette er beskrivende variabler for hvert segment: \\n\" \\\n",
    "        + segments_descriptions +\\\n",
    "        \"\\nLag syntetiske personas for de fire segmentene. Legg like stor vekt på parameterene og de beskrivende variablene. Beskriv de syntetiske personasene med en tekst på ca. 100 ord om hver. Presenter resultatet på json-format.\\n\"\\\n",
    "        \"Eksempel:  {'Segment 1': {'Personas': 'tekst'}}\"\n",
    "    return prompt\n",
    "\n",
    "\n",
    "prompt_2 = generate_prompt_2(reply)\n",
    "messages = add_user_message(messages, prompt_2)\n",
    "reply_2 = generate_chatgpt4_response(messages)\n",
    "messages = add_assistant_message(messages, reply_2)\n",
    "\n",
    "print(reply_2)"
   ]
  },
  {
   "cell_type": "code",
   "execution_count": null,
   "metadata": {},
   "outputs": [],
   "source": [
    "### Bruk ferdig genererte meldinger\n",
    "#messages = [{'role': 'user', 'content': 'Vi har fire segmenter av personer som er scoret på ulike parametere: \\nParameter,Segment 1,Segment 2,Segment 3,Segment 4\\nForetrekker relaterbarhet i en historie,2,5,3,7\\nLiker konsepter med jevnaldrende karakterer,3,5,5,6\\nForetrekker historier med et moralsk budskap,3,7,8,4\\nLiker skumle historier,3,6,10,2\\nLiker triste historier,7,4,0,8\\nLiker morsomme historier,6,2,5,8\\nLiker spennende historier,4,8,5,2\\nLiker historier der man har en favortittkarakter,10,2,9,7\\nSelvfokusert,7,4,0,8\\nOppgaveorientert,9,1,7,6\\nMenneskeorientert,1,9,3,4\\nÅpensinnet,4,8,5,2\\nInteressert og nysgjerrig,10,2,8,5\\nLiker stabilitet og struktur,0,8,2,5\\n\\nGenerer følgende beskrivende variabler for hvert av segmentene: Alder (mellom 8 og 12 år), kjønn (jente eller gutt), skoletrinn, fritidsinteresser (tre stykker), mediepreferanse\\nPresenter resultatet i en tabell på json-format.'}, {'role': 'assistant', 'content': '{\\n  \"Segment 1\": {\\n    \"Alder\": 8,\\n    \"Kjønn\": \"jente\",\\n    \"Skoletrinn\": 3,\\n    \"Fritidsinteresser\": [\"tegning\", \"sykling\", \"lesing\"],\\n    \"Mediepreferanse\": \"bøker\"\\n  },\\n  \"Segment 2\": {\\n    \"Alder\": 10,\\n    \"Kjønn\": \"gutt\",\\n    \"Skoletrinn\": 5,\\n    \"Fritidsinteresser\": [\"fotball\", \"spille videospill\", \"se på TV-serier\"],\\n    \"Mediepreferanse\": \"TV-serier\"\\n  },\\n  \"Segment 3\": {\\n    \"Alder\": 12,\\n    \"Kjønn\": \"jente\",\\n    \"Skoletrinn\": 7,\\n    \"Fritidsinteresser\": [\"skriving\", \"svømming\", \"frivillig arbeid\"],\\n    \"Mediepreferanse\": \"filmer\"\\n  },\\n  \"Segment 4\": {\\n    \"Alder\": 11,\\n    \"Kjønn\": \"gutt\",\\n    \"Skoletrinn\": 6,\\n    \"Fritidsinteresser\": [\"dans\", \"matlaging\", \"spille musikkinstrumenter\"],\\n    \"Mediepreferanse\": \"musikk\"\\n  }\\n}'}, {'role': 'user', 'content': 'Dette er beskrivende variabler for hvert segment: \\nVariabel,Segment 1,Segment 2,Segment 3,Segment 4\\nAlder,8,10,12,11\\nKjønn,jente,gutt,jente,gutt\\nSkoletrinn,3,5,7,6\\nFritidsinteresser,\"[\\'tegning\\', \\'sykling\\', \\'lesing\\']\",\"[\\'fotball\\', \\'spille videospill\\', \\'se på TV-serier\\']\",\"[\\'skriving\\', \\'svømming\\', \\'frivillig arbeid\\']\",\"[\\'dans\\', \\'matlaging\\', \\'spille musikkinstrumenter\\']\"\\nMediepreferanse,bøker,TV-serier,filmer,musikk\\n\\nLag syntetiske personas for de fire segmentene. Legg like stor vekt på parameterene og de beskrivende variablene. Beskriv de syntetiske personasene med en tekst på ca. 100 ord om hver. Presenter resultatet på json-format.\\nEksempel:  {\\'Segment 1\\': {\\'Personas\\': \\'tekst\\'}}'}, {'role': 'assistant', 'content': '{\\n  \"Segment 1\": {\\n    \"Personas\": \"Emma er 8 år gammel og går i 3. klasse. Hun er en jente som elsker å tegne, sykle og lese i sin fritid. Emma liker mest å lese bøker som hun kan relatere seg til og som har en favorittkarakter. Hun foretrekker historier med et moralsk budskap og liker triste og morsomme historier. Emma er selvfokusert og oppgaveorientert, men har også en interesse for mennesker. Hun er nysgjerrig og åpen for nye ideer, men liker også stabilitet og struktur i livet sitt.\"\\n  },\\n  \"Segment 2\": {\\n    \"Personas\": \"Mikkel er 10 år gammel og går i 5. klasse. Han er en gutt som elsker å spille fotball, videospill og se på TV-serier. Mikkel liker å se på TV-serier med jevnaldrende karakterer og foretrekker historier med et sterkt moralsk budskap. Han liker også skumle og spennende historier. Mikkel er menneskeorientert og åpensinnet, og han verdsetter stabilitet og struktur. Han er også interessert og nysgjerrig på nye ting, men er ikke spesielt oppgaveorientert.\"\\n  },\\n  \"Segment 3\": {\\n    \"Personas\": \"Sofie er 12 år gammel og går i 7. klasse. Hun er en jente som liker å skrive, svømme og jobbe frivillig i sin fritid. Sofie liker å se på filmer som har et sterkt moralsk budskap og foretrekker skumle historier. Hun liker også historier der hun kan ha en favorittkarakter. Sofie er oppgaveorientert og interessert i mennesker, men hun er ikke spesielt selvfokusert. Hun er nysgjerrig og åpen for nye ideer, men liker også stabilitet og struktur i livet sitt.\"\\n  },\\n  \"Segment 4\": {\\n    \"Personas\": \"Jonas er 11 år gammel og går i 6. klasse. Han er en gutt som liker å danse, lage mat og spille musikkinstrumenter i sin fritid. Jonas liker å lytte til musikk med jevnaldrende karakterer og foretrekker historier med et sterkt moralsk budskap. Han liker triste, morsomme og spennende historier. Jonas er selvfokusert og oppgaveorientert, og han verdsetter stabilitet og struktur. Han er også interessert og nysgjerrig på nye ting, men er ikke spesielt menneskeorientert.\"\\n  }\\n}'}] "
   ]
  },
  {
   "cell_type": "code",
   "execution_count": 17,
   "metadata": {},
   "outputs": [
    {
     "name": "stdout",
     "output_type": "stream",
     "text": [
      "{\n",
      "  \"Diskusjon\": {\n",
      "    \"Emma\": {\n",
      "      \"Kommentar\": \"Jeg synes den var ganske skummel med de skarpe spikerne som kommer gjennom veggen. Men det var spennende å lese om hvordan personen prøvde å ikke bli oppdaget. Jeg gir den en 6 av 10, fordi jeg liker litt skumle historier, men denne var kanskje litt for skummel for meg.\",\n",
      "      \"Score\": 6\n",
      "    },\n",
      "    \"Mikkel\": {\n",
      "      \"Kommentar\": \"Jeg likte denne historien fordi den var skummel og spennende! Jeg liker når det skjer litt action og farlige ting. Jeg gir den en 9 av 10, fordi jeg liker skumle historier, og denne var veldig spennende!\",\n",
      "      \"Score\": 9\n",
      "    },\n",
      "    \"Sofie\": {\n",
      "      \"Kommentar\": \"Historien var skummel og litt spennende, men jeg liker bedre historier som har et moralsk budskap. Jeg gir den en 5 av 10 fordi den var litt spennende, men ikke helt min type historie.\",\n",
      "      \"Score\": 5\n",
      "    },\n",
      "    \"Jonas\": {\n",
      "      \"Kommentar\": \"Jeg synes den var litt for skummel for meg, og jeg liker bedre morsomme og triste historier. Men jeg må innrømme at den var ganske spennende. Jeg gir den en 4 av 10, fordi den ikke var helt min stil, men jeg likte spenningen i den.\",\n",
      "      \"Score\": 4\n",
      "    }\n",
      "  }\n",
      "}\n"
     ]
    }
   ],
   "source": [
    "### Sammenstill resultatet for syntetiske personas. Be ChatGPT innta rollen som disse og formuler spørsmål til personasene.\n",
    "\n",
    "\n",
    "#eks_prompt = \"Ta utgangspunkt i de syntetiske personasene og deres egenskaper.\" +\\\n",
    "#    \"Personasene sitt svar på følgende spørsmål: Hva skal du gjøre etter skolen i dag?\"\n",
    "\n",
    "tekst = \"\"\"The razor-sharp nails came shooting through the walls with a terrible force. I sat completely still, swallowing, praying silently to be spared impalement. Finally he ran out of nails, and collapsed, exhausted, into a chair, sitting there with his wooden club in his lap, breathing like an animal. Then, suddenly, he raised his head and stared at the wall where I sat without moving. It felt like he had seen something. That he could hear my heartbeat. That I was the one he had seen.\"\"\"\n",
    "\n",
    "def generate_prompt_3(input):\n",
    "    input_json = find_json(input)\n",
    "    df = pd.read_json(input_json)\n",
    "    personas_descriptions = df.to_csv(index_label=\"Persona\")\n",
    "    prompt = \"Dette er et utdrag fra en bok som heter Estragon: \\n\" +\\\n",
    "     tekst +\\\n",
    "        \"Ta utgangspunkt i de syntetiske personasene. Fasiliter en diskusjon der de snakker om hvordan de opplever historien. \" +\\\n",
    "    \"Bruk språk som passer til 8-12 åringer, og gi utdypende svar der de sier hva de liker, hva de ikke liker, gir en score fra 1 til 10, og gir en begrunnelse for hva de tenker. Presenter resultatet i json-format.\"\n",
    "    return prompt\n",
    "\n",
    "\n",
    "prompt_3 = generate_prompt_3(reply_2)\n",
    "messages = add_user_message(messages, prompt_3)\n",
    "reply_3 = generate_chatgpt4_response(messages)\n",
    "print(reply_3)"
   ]
  },
  {
   "cell_type": "code",
   "execution_count": 18,
   "metadata": {},
   "outputs": [
    {
     "name": "stdout",
     "output_type": "stream",
     "text": [
      "{\n",
      "  \"Emma\": {\n",
      "    \"Opplevelse\": \"Jeg synes historien var litt skummel med de skarpe spikrene som kom gjennom veggen. Jeg likte ikke følelsen av at personen i historien kunne bli skadet, men det var spennende å lese. Jeg vil gi historien en 7 av 10 fordi den var spennende, men litt for skummel for meg.\",\n",
      "    \"Liker\": \"Spennende å lese\",\n",
      "    \"Ikke liker\": \"Litt for skummel\",\n",
      "    \"Score\": 7\n",
      "  },\n",
      "  \"Mikkel\": {\n",
      "    \"Opplevelse\": \"Jeg likte denne historien fordi den var skummel og spennende. Jeg kunne nesten høre hjerteslagene sammen med personen i historien. Jeg gir denne historien en 9 av 10 fordi den fikk meg til å sitte på kanten av stolen min.\",\n",
      "    \"Liker\": \"Skummel og spennende\",\n",
      "    \"Ikke liker\": \"Ingenting\",\n",
      "    \"Score\": 9\n",
      "  },\n",
      "  \"Sofie\": {\n",
      "    \"Opplevelse\": \"Historien var skummel, og jeg likte hvordan den fikk meg til å føle at jeg var der sammen med personen. Men jeg liker vanligvis historier med et moralsk budskap, og jeg kunne ikke se det her. Jeg gir historien en 6 av 10 fordi den var engasjerende, men manglet dybde for meg.\",\n",
      "    \"Liker\": \"Engasjerende\",\n",
      "    \"Ikke liker\": \"Mangler moralsk budskap\",\n",
      "    \"Score\": 6\n",
      "  },\n",
      "  \"Jonas\": {\n",
      "    \"Opplevelse\": \"Jeg synes historien var litt for skummel for meg. Jeg liker bedre morsomme og triste historier. Men jeg må innrømme at det var spennende å lese. Jeg gir historien en 4 av 10 fordi den ikke er helt min stil.\",\n",
      "    \"Liker\": \"Spennende\",\n",
      "    \"Ikke liker\": \"For skummel\",\n",
      "    \"Score\": 4\n",
      "  }\n",
      "}\n"
     ]
    },
    {
     "data": {
      "text/plain": [
       "{'role': 'system',\n",
       " 'content': 'Du skal innta rollen som syntetiske personas. Svar med utgangspunkt i informasjonen som er oppgitt om hver personas, både parametere og bekskrivelse. Bruk språk som passer til 8-12 åringer, og gi utdypende svar der de gir begrunnelse for hva de tenker.'}"
      ]
     },
     "execution_count": 18,
     "metadata": {},
     "output_type": "execute_result"
    }
   ],
   "source": [
    "### Gjennomfør samme test med system-prompt\n",
    "\n",
    "system_message = \"Du skal innta rollen som syntetiske personas. Svar med utgangspunkt i informasjonen som er oppgitt om hver personas, \\\n",
    "både parametere og bekskrivelse. Bruk språk som passer til 8-12 åringer, og gi utdypende svar der de gir begrunnelse for hva de tenker.\"\n",
    "messages = add_system_message(messages, system_message)\n",
    "\n",
    "reply_3 = generate_chatgpt4_response(messages)\n",
    "print(reply_3)\n",
    "messages.pop(0)"
   ]
  }
 ],
 "metadata": {
  "kernelspec": {
   "display_name": "Python 3 (ipykernel)",
   "language": "python",
   "name": "python3"
  },
  "language_info": {
   "codemirror_mode": {
    "name": "ipython",
    "version": 3
   },
   "file_extension": ".py",
   "mimetype": "text/x-python",
   "name": "python",
   "nbconvert_exporter": "python",
   "pygments_lexer": "ipython3",
   "version": "3.10.4"
  },
  "orig_nbformat": 4
 },
 "nbformat": 4,
 "nbformat_minor": 2
}
