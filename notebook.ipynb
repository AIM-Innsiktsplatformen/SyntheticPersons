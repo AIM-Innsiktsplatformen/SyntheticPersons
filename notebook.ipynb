{
 "cells": [
  {
   "cell_type": "code",
   "execution_count": 57,
   "metadata": {},
   "outputs": [
    {
     "name": "stdout",
     "output_type": "stream",
     "text": [
      "Requirement already satisfied: openai in c:\\users\\morten\\appdata\\local\\programs\\python\\python311\\lib\\site-packages (0.27.6)\n",
      "Requirement already satisfied: requests>=2.20 in c:\\users\\morten\\appdata\\local\\programs\\python\\python311\\lib\\site-packages (from openai) (2.30.0)\n",
      "Requirement already satisfied: tqdm in c:\\users\\morten\\appdata\\local\\programs\\python\\python311\\lib\\site-packages (from openai) (4.65.0)\n",
      "Requirement already satisfied: aiohttp in c:\\users\\morten\\appdata\\local\\programs\\python\\python311\\lib\\site-packages (from openai) (3.8.4)\n",
      "Requirement already satisfied: charset-normalizer<4,>=2 in c:\\users\\morten\\appdata\\local\\programs\\python\\python311\\lib\\site-packages (from requests>=2.20->openai) (3.1.0)\n",
      "Requirement already satisfied: idna<4,>=2.5 in c:\\users\\morten\\appdata\\local\\programs\\python\\python311\\lib\\site-packages (from requests>=2.20->openai) (3.4)\n",
      "Requirement already satisfied: urllib3<3,>=1.21.1 in c:\\users\\morten\\appdata\\local\\programs\\python\\python311\\lib\\site-packages (from requests>=2.20->openai) (2.0.2)\n",
      "Requirement already satisfied: certifi>=2017.4.17 in c:\\users\\morten\\appdata\\local\\programs\\python\\python311\\lib\\site-packages (from requests>=2.20->openai) (2023.5.7)\n",
      "Requirement already satisfied: attrs>=17.3.0 in c:\\users\\morten\\appdata\\local\\programs\\python\\python311\\lib\\site-packages (from aiohttp->openai) (23.1.0)\n",
      "Requirement already satisfied: multidict<7.0,>=4.5 in c:\\users\\morten\\appdata\\local\\programs\\python\\python311\\lib\\site-packages (from aiohttp->openai) (6.0.4)\n",
      "Requirement already satisfied: async-timeout<5.0,>=4.0.0a3 in c:\\users\\morten\\appdata\\local\\programs\\python\\python311\\lib\\site-packages (from aiohttp->openai) (4.0.2)\n",
      "Requirement already satisfied: yarl<2.0,>=1.0 in c:\\users\\morten\\appdata\\local\\programs\\python\\python311\\lib\\site-packages (from aiohttp->openai) (1.9.2)\n",
      "Requirement already satisfied: frozenlist>=1.1.1 in c:\\users\\morten\\appdata\\local\\programs\\python\\python311\\lib\\site-packages (from aiohttp->openai) (1.3.3)\n",
      "Requirement already satisfied: aiosignal>=1.1.2 in c:\\users\\morten\\appdata\\local\\programs\\python\\python311\\lib\\site-packages (from aiohttp->openai) (1.3.1)\n",
      "Requirement already satisfied: colorama in c:\\users\\morten\\appdata\\roaming\\python\\python311\\site-packages (from tqdm->openai) (0.4.6)\n"
     ]
    },
    {
     "name": "stderr",
     "output_type": "stream",
     "text": [
      "\n",
      "[notice] A new release of pip available: 22.3.1 -> 23.1.2\n",
      "[notice] To update, run: python.exe -m pip install --upgrade pip\n"
     ]
    },
    {
     "name": "stdout",
     "output_type": "stream",
     "text": [
      "Requirement already satisfied: pandas in c:\\users\\morten\\appdata\\local\\programs\\python\\python311\\lib\\site-packages (2.0.1)\n",
      "Requirement already satisfied: python-dateutil>=2.8.2 in c:\\users\\morten\\appdata\\roaming\\python\\python311\\site-packages (from pandas) (2.8.2)\n",
      "Requirement already satisfied: pytz>=2020.1 in c:\\users\\morten\\appdata\\local\\programs\\python\\python311\\lib\\site-packages (from pandas) (2023.3)\n",
      "Requirement already satisfied: tzdata>=2022.1 in c:\\users\\morten\\appdata\\local\\programs\\python\\python311\\lib\\site-packages (from pandas) (2023.3)\n",
      "Requirement already satisfied: numpy>=1.21.0 in c:\\users\\morten\\appdata\\local\\programs\\python\\python311\\lib\\site-packages (from pandas) (1.24.3)\n",
      "Requirement already satisfied: six>=1.5 in c:\\users\\morten\\appdata\\roaming\\python\\python311\\site-packages (from python-dateutil>=2.8.2->pandas) (1.16.0)\n"
     ]
    },
    {
     "name": "stderr",
     "output_type": "stream",
     "text": [
      "\n",
      "[notice] A new release of pip available: 22.3.1 -> 23.1.2\n",
      "[notice] To update, run: python.exe -m pip install --upgrade pip\n"
     ]
    },
    {
     "name": "stdout",
     "output_type": "stream",
     "text": [
      "Collecting matplotlib\n",
      "  Using cached matplotlib-3.7.1-cp311-cp311-win_amd64.whl (7.6 MB)\n",
      "Collecting contourpy>=1.0.1\n",
      "  Using cached contourpy-1.0.7-cp311-cp311-win_amd64.whl (162 kB)\n",
      "Collecting cycler>=0.10\n",
      "  Using cached cycler-0.11.0-py3-none-any.whl (6.4 kB)\n",
      "Collecting fonttools>=4.22.0\n",
      "  Using cached fonttools-4.39.3-py3-none-any.whl (1.0 MB)\n",
      "Collecting kiwisolver>=1.0.1\n",
      "  Using cached kiwisolver-1.4.4-cp311-cp311-win_amd64.whl (55 kB)\n",
      "Requirement already satisfied: numpy>=1.20 in c:\\users\\morten\\appdata\\local\\programs\\python\\python311\\lib\\site-packages (from matplotlib) (1.24.3)\n",
      "Requirement already satisfied: packaging>=20.0 in c:\\users\\morten\\appdata\\roaming\\python\\python311\\site-packages (from matplotlib) (23.1)\n",
      "Collecting pillow>=6.2.0\n",
      "  Downloading Pillow-9.5.0-cp311-cp311-win_amd64.whl (2.5 MB)\n",
      "     ---------------------------------------- 2.5/2.5 MB 5.2 MB/s eta 0:00:00\n",
      "Collecting pyparsing>=2.3.1\n",
      "  Using cached pyparsing-3.0.9-py3-none-any.whl (98 kB)\n",
      "Requirement already satisfied: python-dateutil>=2.7 in c:\\users\\morten\\appdata\\roaming\\python\\python311\\site-packages (from matplotlib) (2.8.2)\n",
      "Requirement already satisfied: six>=1.5 in c:\\users\\morten\\appdata\\roaming\\python\\python311\\site-packages (from python-dateutil>=2.7->matplotlib) (1.16.0)\n",
      "Installing collected packages: pyparsing, pillow, kiwisolver, fonttools, cycler, contourpy, matplotlib\n",
      "Successfully installed contourpy-1.0.7 cycler-0.11.0 fonttools-4.39.3 kiwisolver-1.4.4 matplotlib-3.7.1 pillow-9.5.0 pyparsing-3.0.9\n"
     ]
    },
    {
     "name": "stderr",
     "output_type": "stream",
     "text": [
      "\n",
      "[notice] A new release of pip available: 22.3.1 -> 23.1.2\n",
      "[notice] To update, run: python.exe -m pip install --upgrade pip\n"
     ]
    }
   ],
   "source": [
    "import sys\n",
    "!{sys.executable} -m pip install openai\n",
    "!{sys.executable} -m pip install pandas\n",
    "!{sys.executable} -m pip install matplotlib\n",
    "import openai\n",
    "import matplotlib.pyplot as plt\n",
    "import pandas as pd\n",
    "import re\n",
    "from source.api_call import generate_chatgpt_response"
   ]
  },
  {
   "cell_type": "code",
   "execution_count": 109,
   "metadata": {},
   "outputs": [
    {
     "name": "stdout",
     "output_type": "stream",
     "text": [
      "['Ola Norman', 45, 'ski tv-titting', 'IT-konsulent', 'Oslo', 'En aktiv og utadvendt person som elsker friluftsliv og teknologi']\n",
      "['Kari Norman', 43, 'maling lesing', 'sosialarbeider', 'Oslo', 'Elsker å male og lese i sin fritid. Hun er veldig omsorgsfull og hjelper andre gjennom jobben hennes']\n",
      "['Erik Norman', 18, 'fotball data spill', 'student', 'Oslo', 'En ivrig fotballspiller og gamer. Studerer informatikk på universitetet']\n",
      "['Marte Norman', 16, 'dans musikk', 'videregående skole', 'Oslo', 'Passionert danser og musikkelsker. Hun er i sitt siste år på videregående skole']\n",
      "['Jan Norman', 13, 'tegneserie robotikk', 'mellomtrinnet', 'Oslo', 'En kreativ og nysgjerrig gutt som elsker tegneserier og robotikk']\n",
      "['Lise Norman', 11, 'dyr skriving', 'barneskole', 'Oslo', 'En dyreelsker og begynnende forfatter. Hun drømmer om å bli veterinær']\n"
     ]
    }
   ],
   "source": [
    "# read from csv file\n",
    "\n",
    "df = pd.read_csv('data\\synthpersons.csv')\n",
    "# make it to a list\n",
    "person_list = df.values.tolist()\n",
    "for row in person_list:\n",
    "    # make row to a string\n",
    "    row = str(row)\n",
    "    print(row)"
   ]
  },
  {
   "cell_type": "code",
   "execution_count": 72,
   "metadata": {},
   "outputs": [],
   "source": [
    "system_message = \"Du skal tre in i rollen som en person som er beskrevet her svar kun med et tall\"\n",
    "topic = \" fortell meg hva du syses om football gi et tall mellom 1-10 svar med et tall\"\n",
    "promt_2 = \"forklar hvorfor du gav det tallet som svar\""
   ]
  },
  {
   "cell_type": "code",
   "execution_count": 114,
   "metadata": {},
   "outputs": [
    {
     "name": "stdout",
     "output_type": "stream",
     "text": [
      "tre in i rollen som en person som er beskrevet her['Ola Norman', 45, 'ski tv-titting', 'IT-konsulent', 'Oslo', 'En aktiv og utadvendt person som elsker friluftsliv og teknologi'] fortell meg hva du syses om football gi et tall mellom 1-10 svar med et tall\n",
      "[{'role': 'system', 'content': 'Du skal tre in i rollen som en person som er beskrevet her svar kun med et tall'}, {'role': 'user', 'content': \"tre in i rollen som en person som er beskrevet her['Ola Norman', 45, 'ski tv-titting', 'IT-konsulent', 'Oslo', 'En aktiv og utadvendt person som elsker friluftsliv og teknologi'] fortell meg hva du syses om football gi et tall mellom 1-10 svar med et tall\"}]\n",
      "8\n",
      "tre in i rollen som en person som er beskrevet her['Kari Norman', 43, 'maling lesing', 'sosialarbeider', 'Oslo', 'Elsker å male og lese i sin fritid. Hun er veldig omsorgsfull og hjelper andre gjennom jobben hennes'] fortell meg hva du syses om football gi et tall mellom 1-10 svar med et tall\n",
      "[{'role': 'system', 'content': 'Du skal tre in i rollen som en person som er beskrevet her svar kun med et tall'}, {'role': 'user', 'content': \"tre in i rollen som en person som er beskrevet her['Kari Norman', 43, 'maling lesing', 'sosialarbeider', 'Oslo', 'Elsker å male og lese i sin fritid. Hun er veldig omsorgsfull og hjelper andre gjennom jobben hennes'] fortell meg hva du syses om football gi et tall mellom 1-10 svar med et tall\"}]\n",
      "Jeg har ingen informasjon om Kari Normans særinteresser eller synspunkter på fotball, så jeg vil ikke gi noen vurdering. Ville du heller ha en generell vurdering av fotball fra meg som AI?\n",
      "tre in i rollen som en person som er beskrevet her['Erik Norman', 18, 'fotball data spill', 'student', 'Oslo', 'En ivrig fotballspiller og gamer. Studerer informatikk på universitetet'] fortell meg hva du syses om football gi et tall mellom 1-10 svar med et tall\n",
      "[{'role': 'system', 'content': 'Du skal tre in i rollen som en person som er beskrevet her svar kun med et tall'}, {'role': 'user', 'content': \"tre in i rollen som en person som er beskrevet her['Erik Norman', 18, 'fotball data spill', 'student', 'Oslo', 'En ivrig fotballspiller og gamer. Studerer informatikk på universitetet'] fortell meg hva du syses om football gi et tall mellom 1-10 svar med et tall\"}]\n",
      "8\n",
      "tre in i rollen som en person som er beskrevet her['Marte Norman', 16, 'dans musikk', 'videregående skole', 'Oslo', 'Passionert danser og musikkelsker. Hun er i sitt siste år på videregående skole'] fortell meg hva du syses om football gi et tall mellom 1-10 svar med et tall\n",
      "[{'role': 'system', 'content': 'Du skal tre in i rollen som en person som er beskrevet her svar kun med et tall'}, {'role': 'user', 'content': \"tre in i rollen som en person som er beskrevet her['Marte Norman', 16, 'dans musikk', 'videregående skole', 'Oslo', 'Passionert danser og musikkelsker. Hun er i sitt siste år på videregående skole'] fortell meg hva du syses om football gi et tall mellom 1-10 svar med et tall\"}]\n",
      "8.\n",
      "tre in i rollen som en person som er beskrevet her['Jan Norman', 13, 'tegneserie robotikk', 'mellomtrinnet', 'Oslo', 'En kreativ og nysgjerrig gutt som elsker tegneserier og robotikk'] fortell meg hva du syses om football gi et tall mellom 1-10 svar med et tall\n",
      "[{'role': 'system', 'content': 'Du skal tre in i rollen som en person som er beskrevet her svar kun med et tall'}, {'role': 'user', 'content': \"tre in i rollen som en person som er beskrevet her['Jan Norman', 13, 'tegneserie robotikk', 'mellomtrinnet', 'Oslo', 'En kreativ og nysgjerrig gutt som elsker tegneserier og robotikk'] fortell meg hva du syses om football gi et tall mellom 1-10 svar med et tall\"}]\n",
      "6\n",
      "tre in i rollen som en person som er beskrevet her['Lise Norman', 11, 'dyr skriving', 'barneskole', 'Oslo', 'En dyreelsker og begynnende forfatter. Hun drømmer om å bli veterinær'] fortell meg hva du syses om football gi et tall mellom 1-10 svar med et tall\n",
      "[{'role': 'system', 'content': 'Du skal tre in i rollen som en person som er beskrevet her svar kun med et tall'}, {'role': 'user', 'content': \"tre in i rollen som en person som er beskrevet her['Lise Norman', 11, 'dyr skriving', 'barneskole', 'Oslo', 'En dyreelsker og begynnende forfatter. Hun drømmer om å bli veterinær'] fortell meg hva du syses om football gi et tall mellom 1-10 svar med et tall\"}]\n",
      "6\n"
     ]
    }
   ],
   "source": [
    "svar_list = []\n",
    "response_list = []\n",
    "for person in person_list:\n",
    "    person_str = str(person)\n",
    "    promt_1 = \"tre in i rollen som en person som er beskrevet her\"+ person_str + topic\n",
    "    messages=[\n",
    "        {\"role\": \"system\", \"content\": system_message},\n",
    "        {\"role\": \"user\", \"content\":  promt_1},\n",
    "    ]\n",
    "    answer = generate_chatgpt_response(messages)\n",
    "    svar_list.append(re.findall(r'\\d+', answer))\n",
    "    messages.append({\"role\": \"assistant\", \"content\": answer})\n",
    "    messages.append({\"role\": \"user\", \"content\":  promt_2})\n",
    "    response = generate_chatgpt_response(messages)\n",
    "    response_list.append(response)\n"
   ]
  },
  {
   "cell_type": "code",
   "execution_count": 1,
   "metadata": {},
   "outputs": [
    {
     "ename": "NameError",
     "evalue": "name 'svar_list' is not defined",
     "output_type": "error",
     "traceback": [
      "\u001b[1;31m---------------------------------------------------------------------------\u001b[0m",
      "\u001b[1;31mNameError\u001b[0m                                 Traceback (most recent call last)",
      "Cell \u001b[1;32mIn[1], line 2\u001b[0m\n\u001b[0;32m      1\u001b[0m svar_plot \u001b[39m=\u001b[39m []\n\u001b[1;32m----> 2\u001b[0m \u001b[39mfor\u001b[39;00m i \u001b[39min\u001b[39;00m svar_list:\n\u001b[0;32m      3\u001b[0m     \u001b[39mif\u001b[39;00m i \u001b[39m==\u001b[39m []:\n\u001b[0;32m      4\u001b[0m         i\u001b[39m.\u001b[39mappend(\u001b[39m0\u001b[39m)\n",
      "\u001b[1;31mNameError\u001b[0m: name 'svar_list' is not defined"
     ]
    }
   ],
   "source": [
    "svar_plot = []\n",
    "for i in svar_list:\n",
    "    if i == []:\n",
    "        i.append(0)\n",
    "    svar_plot.append(i[0])\n",
    "person_plot = [int(i[1]) for i in df.values.tolist()]\n",
    "# now we can plot \n",
    "print(svar_plot)\n",
    "print(person_plot)\n",
    "plt.plot(person_plot,svar_plot)\n",
    "plt.xlabel('age')\n",
    "plt.ylabel('answer')\n",
    "plt.show()\n",
    "for response in response_list:\n",
    "    print(response)\n"
   ]
  }
 ],
 "metadata": {
  "kernelspec": {
   "display_name": "Python 3",
   "language": "python",
   "name": "python3"
  },
  "language_info": {
   "codemirror_mode": {
    "name": "ipython",
    "version": 3
   },
   "file_extension": ".py",
   "mimetype": "text/x-python",
   "name": "python",
   "nbconvert_exporter": "python",
   "pygments_lexer": "ipython3",
   "version": "3.11.2"
  },
  "orig_nbformat": 4
 },
 "nbformat": 4,
 "nbformat_minor": 2
}
