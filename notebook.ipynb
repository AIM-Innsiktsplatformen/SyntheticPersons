{
 "cells": [
  {
   "cell_type": "code",
   "execution_count": 1,
   "metadata": {},
   "outputs": [
    {
     "name": "stdout",
     "output_type": "stream",
     "text": [
      "Requirement already satisfied: openai in /usr/local/python/3.10.4/lib/python3.10/site-packages (0.27.6)\n",
      "Requirement already satisfied: requests>=2.20 in /home/codespace/.local/lib/python3.10/site-packages (from openai) (2.28.2)\n",
      "Requirement already satisfied: tqdm in /usr/local/python/3.10.4/lib/python3.10/site-packages (from openai) (4.65.0)\n",
      "Requirement already satisfied: aiohttp in /usr/local/python/3.10.4/lib/python3.10/site-packages (from openai) (3.8.4)\n",
      "Requirement already satisfied: charset-normalizer<4,>=2 in /home/codespace/.local/lib/python3.10/site-packages (from requests>=2.20->openai) (3.1.0)\n",
      "Requirement already satisfied: idna<4,>=2.5 in /home/codespace/.local/lib/python3.10/site-packages (from requests>=2.20->openai) (3.4)\n",
      "Requirement already satisfied: urllib3<1.27,>=1.21.1 in /home/codespace/.local/lib/python3.10/site-packages (from requests>=2.20->openai) (1.26.15)\n",
      "Requirement already satisfied: certifi>=2017.4.17 in /home/codespace/.local/lib/python3.10/site-packages (from requests>=2.20->openai) (2022.12.7)\n",
      "Requirement already satisfied: attrs>=17.3.0 in /home/codespace/.local/lib/python3.10/site-packages (from aiohttp->openai) (23.1.0)\n",
      "Requirement already satisfied: multidict<7.0,>=4.5 in /usr/local/python/3.10.4/lib/python3.10/site-packages (from aiohttp->openai) (6.0.4)\n",
      "Requirement already satisfied: async-timeout<5.0,>=4.0.0a3 in /usr/local/python/3.10.4/lib/python3.10/site-packages (from aiohttp->openai) (4.0.2)\n",
      "Requirement already satisfied: yarl<2.0,>=1.0 in /usr/local/python/3.10.4/lib/python3.10/site-packages (from aiohttp->openai) (1.9.2)\n",
      "Requirement already satisfied: frozenlist>=1.1.1 in /usr/local/python/3.10.4/lib/python3.10/site-packages (from aiohttp->openai) (1.3.3)\n",
      "Requirement already satisfied: aiosignal>=1.1.2 in /usr/local/python/3.10.4/lib/python3.10/site-packages (from aiohttp->openai) (1.3.1)\n",
      "\n",
      "\u001b[1m[\u001b[0m\u001b[34;49mnotice\u001b[0m\u001b[1;39;49m]\u001b[0m\u001b[39;49m A new release of pip is available: \u001b[0m\u001b[31;49m23.1.1\u001b[0m\u001b[39;49m -> \u001b[0m\u001b[32;49m23.1.2\u001b[0m\n",
      "\u001b[1m[\u001b[0m\u001b[34;49mnotice\u001b[0m\u001b[1;39;49m]\u001b[0m\u001b[39;49m To update, run: \u001b[0m\u001b[32;49mpip install --upgrade pip\u001b[0m\n",
      "Requirement already satisfied: pandas in /home/codespace/.local/lib/python3.10/site-packages (2.0.1)\n",
      "Requirement already satisfied: python-dateutil>=2.8.2 in /home/codespace/.local/lib/python3.10/site-packages (from pandas) (2.8.2)\n",
      "Requirement already satisfied: pytz>=2020.1 in /home/codespace/.local/lib/python3.10/site-packages (from pandas) (2023.3)\n",
      "Requirement already satisfied: tzdata>=2022.1 in /home/codespace/.local/lib/python3.10/site-packages (from pandas) (2023.3)\n",
      "Requirement already satisfied: numpy>=1.21.0 in /home/codespace/.local/lib/python3.10/site-packages (from pandas) (1.24.3)\n",
      "Requirement already satisfied: six>=1.5 in /home/codespace/.local/lib/python3.10/site-packages (from python-dateutil>=2.8.2->pandas) (1.16.0)\n",
      "\n",
      "\u001b[1m[\u001b[0m\u001b[34;49mnotice\u001b[0m\u001b[1;39;49m]\u001b[0m\u001b[39;49m A new release of pip is available: \u001b[0m\u001b[31;49m23.1.1\u001b[0m\u001b[39;49m -> \u001b[0m\u001b[32;49m23.1.2\u001b[0m\n",
      "\u001b[1m[\u001b[0m\u001b[34;49mnotice\u001b[0m\u001b[1;39;49m]\u001b[0m\u001b[39;49m To update, run: \u001b[0m\u001b[32;49mpip install --upgrade pip\u001b[0m\n",
      "Requirement already satisfied: matplotlib in /home/codespace/.local/lib/python3.10/site-packages (3.7.1)\n",
      "Requirement already satisfied: contourpy>=1.0.1 in /home/codespace/.local/lib/python3.10/site-packages (from matplotlib) (1.0.7)\n",
      "Requirement already satisfied: cycler>=0.10 in /home/codespace/.local/lib/python3.10/site-packages (from matplotlib) (0.11.0)\n",
      "Requirement already satisfied: fonttools>=4.22.0 in /home/codespace/.local/lib/python3.10/site-packages (from matplotlib) (4.39.3)\n",
      "Requirement already satisfied: kiwisolver>=1.0.1 in /home/codespace/.local/lib/python3.10/site-packages (from matplotlib) (1.4.4)\n",
      "Requirement already satisfied: numpy>=1.20 in /home/codespace/.local/lib/python3.10/site-packages (from matplotlib) (1.24.3)\n",
      "Requirement already satisfied: packaging>=20.0 in /home/codespace/.local/lib/python3.10/site-packages (from matplotlib) (23.1)\n",
      "Requirement already satisfied: pillow>=6.2.0 in /home/codespace/.local/lib/python3.10/site-packages (from matplotlib) (9.5.0)\n",
      "Requirement already satisfied: pyparsing>=2.3.1 in /home/codespace/.local/lib/python3.10/site-packages (from matplotlib) (3.0.9)\n",
      "Requirement already satisfied: python-dateutil>=2.7 in /home/codespace/.local/lib/python3.10/site-packages (from matplotlib) (2.8.2)\n",
      "Requirement already satisfied: six>=1.5 in /home/codespace/.local/lib/python3.10/site-packages (from python-dateutil>=2.7->matplotlib) (1.16.0)\n",
      "\n",
      "\u001b[1m[\u001b[0m\u001b[34;49mnotice\u001b[0m\u001b[1;39;49m]\u001b[0m\u001b[39;49m A new release of pip is available: \u001b[0m\u001b[31;49m23.1.1\u001b[0m\u001b[39;49m -> \u001b[0m\u001b[32;49m23.1.2\u001b[0m\n",
      "\u001b[1m[\u001b[0m\u001b[34;49mnotice\u001b[0m\u001b[1;39;49m]\u001b[0m\u001b[39;49m To update, run: \u001b[0m\u001b[32;49mpip install --upgrade pip\u001b[0m\n"
     ]
    }
   ],
   "source": [
    "import sys\n",
    "!{sys.executable} -m pip install openai\n",
    "!{sys.executable} -m pip install pandas\n",
    "!{sys.executable} -m pip install matplotlib\n",
    "import openai\n",
    "import matplotlib.pyplot as plt\n",
    "import pandas as pd\n",
    "import re\n"
   ]
  },
  {
   "cell_type": "code",
   "execution_count": 2,
   "metadata": {},
   "outputs": [
    {
     "name": "stdout",
     "output_type": "stream",
     "text": [
      "['Ola Norman', 45, 'ski tv-titting', 'IT-konsulent', 'Oslo', 'En aktiv og utadvendt person som elsker friluftsliv og teknologi']\n",
      "['Kari Norman', 43, 'maling lesing', 'sosialarbeider', 'Oslo', 'Elsker å male og lese i sin fritid. Hun er veldig omsorgsfull og hjelper andre gjennom jobben hennes']\n",
      "['Erik Norman', 18, 'fotball data spill', 'student', 'Oslo', 'En ivrig fotballspiller og gamer. Studerer informatikk på universitetet']\n",
      "['Marte Norman', 16, 'dans musikk', 'videregående skole', 'Oslo', 'Passionert danser og musikkelsker. Hun er i sitt siste år på videregående skole']\n",
      "['Jan Norman', 13, 'tegneserie robotikk', 'mellomtrinnet', 'Oslo', 'En kreativ og nysgjerrig gutt som elsker tegneserier og robotikk']\n",
      "['Lise Norman', 11, 'dyr skriving', 'barneskole', 'Oslo', 'En dyreelsker og begynnende forfatter. Hun drømmer om å bli veterinær']\n"
     ]
    }
   ],
   "source": [
    "# read from csv file\n",
    "\n",
    "df = pd.read_csv('data/synthpersons.csv')\n",
    "# make it to a list\n",
    "person_list = df.values.tolist()\n",
    "for row in person_list:\n",
    "    # make row to a string\n",
    "    row = str(row)\n",
    "    print(row)"
   ]
  },
  {
   "cell_type": "code",
   "execution_count": 3,
   "metadata": {},
   "outputs": [],
   "source": [
    "system_message = \"Du skal tre in i rollen som en person som er beskrevet her svar kun med et tall\"\n",
    "topic = \" fortell meg hva du syses om football gi et tall mellom 1-10 svar med et tall\"\n",
    "promt_2 = \"forklar hvorfor du gav det tallet som svar\""
   ]
  },
  {
   "cell_type": "code",
   "execution_count": 6,
   "metadata": {},
   "outputs": [],
   "source": [
    "from source.api_call import generate_chatgpt_response\n",
    "svar_list = []\n",
    "response_list = []\n",
    "for person in person_list:\n",
    "    person_str = str(person)\n",
    "    promt_1 = \"tre in i rollen som en person som er beskrevet her\"+ person_str + topic\n",
    "    messages=[\n",
    "        {\"role\": \"system\", \"content\": system_message},\n",
    "        {\"role\": \"user\", \"content\":  promt_1},\n",
    "    ]\n",
    "    answer = generate_chatgpt_response(messages)\n",
    "    svar_list.append(re.findall(r'\\d+', answer))\n",
    "    messages.append({\"role\": \"assistant\", \"content\": answer})\n",
    "    messages.append({\"role\": \"user\", \"content\":  promt_2})\n",
    "    response = generate_chatgpt_response(messages)\n",
    "    response_list.append(response)\n"
   ]
  },
  {
   "cell_type": "code",
   "execution_count": 8,
   "metadata": {},
   "outputs": [
    {
     "name": "stdout",
     "output_type": "stream",
     "text": [
      "['8', '5', '8', '9', '7', 0]\n",
      "[45, 43, 18, 16, 13, 11]\n"
     ]
    },
    {
     "data": {
      "image/png": "[encoded data removed]",
      "text/plain": [
       "<Figure size 640x480 with 1 Axes>"
      ]
     },
     "metadata": {},
     "output_type": "display_data"
    },
    {
     "name": "stdout",
     "output_type": "stream",
     "text": [
      "Ola Norman : Jeg gav tallet 8 fordi selv om jeg foretrekker aktiviteter som er mer knyttet til friluftsliv, forstår jeg at fotball er en populær og viktig sport for mange mennesker, og jeg verdsetter betydningen som den har for samfunnet og kulturen. På en personlig skala vil jeg kanskje ikke gi fotball en 10, men jeg synes det fortjener et høyt tall.\n",
      "Kari Norman : Tallet 5 var et tilfeldig valg, og det var ingen spesifikke grunner til at jeg valgte det. Som en AI-assistent har jeg ikke noen egne meninger eller oppfatninger om noe emne, inkludert fotball. Mitt første svar var derfor at jeg ikke kunne gi deg en verdi i det hele tatt, men siden du ba om et tall mellom 1-10, ga jeg deg tallet 5 for å gi deg et svar som var ikke-bias og tilfeldig.\n",
      "Erik Norman : Jeg gav tallet 8 som svar fordi personen Erik Norman virker veldig interessert i fotball, og sannsynligvis har mye kunnskap og erfaring innenfor sporten. Likevel, det finnes alltid plass for forbedring og utvikling, og det er derfor jeg ikke ga det høyeste tallet mulig.\n",
      "Marte Norman : Jeg ut ifra beskrivelsen av Marte Norman er det ikke nevnt om hun er spesielt interessert i fotball eller om hun har noen formening om det. Derfor har jeg vurdert for meg selv hvilken score jeg ville gitt interesse for fotball, og jeg har landet på 9. Dette fordi jeg personlig synes at fotball er en interessant sport å følge med på, både nasjonalt og internasjonalt.\n",
      "Jan Norman : Som Jan Norman, selv om han er en kreativ og nysgjerrig gutt som elsker tegneserier og robotikk, kan jeg likevel ha interesser og oppfatninger som er forskjellige fra hans. Jeg gir tallet 7 fordi jeg har en positiv interesse for fotball, men det er ikke min største lidenskap eller interesse.\n",
      "Lise Norman : Som jeg nevnte, har jeg ikke gitt deg et tall som svar fordi spørsmålet ditt ikke er direkte relatert til beskrivelsen av personen du har gitt meg. Hvis du kan gi meg mer informasjon om hva du ønsker å vite om eller vil ha hjelp med, så vil jeg gjerne forsøke å gi deg et passende svar.\n"
     ]
    }
   ],
   "source": [
    "svar_plot = []\n",
    "for i in svar_list:\n",
    "    if i == []:\n",
    "        i.append(0)\n",
    "    svar_plot.append(i[0])\n",
    "person_plot = [int(i[1]) for i in df.values.tolist()]\n",
    "person_name = [str(i[0]) for i in df.values.tolist()]\n",
    "# now we can plot \n",
    "print(svar_plot)\n",
    "print(person_plot)\n",
    "plt.plot(person_plot,svar_plot)\n",
    "plt.xlabel('age')\n",
    "plt.ylabel('answer')\n",
    "plt.show()\n",
    "for name, response in zip(person_name, response_list):\n",
    "    print(name,\":\",response)\n"
   ]
  }
 ],
 "metadata": {
  "kernelspec": {
   "display_name": "Python 3",
   "language": "python",
   "name": "python3"
  },
  "language_info": {
   "codemirror_mode": {
    "name": "ipython",
    "version": 3
   },
   "file_extension": ".py",
   "mimetype": "text/x-python",
   "name": "python",
   "nbconvert_exporter": "python",
   "pygments_lexer": "ipython3",
   "version": "3.10.4"
  },
  "orig_nbformat": 4
 },
 "nbformat": 4,
 "nbformat_minor": 2
}
